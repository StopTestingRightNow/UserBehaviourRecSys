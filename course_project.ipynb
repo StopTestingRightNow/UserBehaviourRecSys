{
 "cells": [
  {
   "cell_type": "markdown",
   "metadata": {},
   "source": [
    "# Import libs"
   ]
  },
  {
   "cell_type": "code",
   "execution_count": 1,
   "metadata": {},
   "outputs": [],
   "source": [
    "import pandas as pd\n",
    "import numpy as np\n",
    "import matplotlib.pyplot as plt\n",
    "%matplotlib inline\n",
    "\n",
    "from scipy.sparse import csr_matrix\n",
    "\n",
    "from implicit import als\n",
    "\n",
    "from lightgbm import LGBMClassifier\n",
    "\n",
    "import os, sys\n",
    "module_path = os.path.abspath(os.path.join(os.pardir))\n",
    "if module_path not in sys.path:\n",
    "    sys.path.append(module_path)\n",
    "\n",
    "#homebrew\n",
    "from metrics import precision_at_k, recall_at_k\n",
    "from utils import prefilter_items\n",
    "from recommenders import MainRecommender"
   ]
  },
  {
   "cell_type": "markdown",
   "metadata": {},
   "source": [
    "## Read data"
   ]
  },
  {
   "cell_type": "code",
   "execution_count": 2,
   "metadata": {},
   "outputs": [],
   "source": [
    "data = pd.read_csv('retail_train.csv')\n",
    "item_features = pd.read_csv('product.csv')\n",
    "user_features = pd.read_csv('hh_demographic.csv')"
   ]
  },
  {
   "cell_type": "markdown",
   "metadata": {},
   "source": [
    "# Set global const"
   ]
  },
  {
   "cell_type": "code",
   "execution_count": 4,
   "metadata": {},
   "outputs": [],
   "source": [
    "ITEM_COL = 'item_id'\n",
    "USER_COL = 'user_id'\n",
    "ACTUAL_COL = 'actual'\n",
    "\n",
    "# N = Neighbors\n",
    "N_PREDICT = 50 "
   ]
  },
  {
   "cell_type": "markdown",
   "metadata": {},
   "source": [
    "# Process features dataset"
   ]
  },
  {
   "cell_type": "code",
   "execution_count": 5,
   "metadata": {},
   "outputs": [],
   "source": [
    "# column processing\n",
    "item_features.columns = [col.lower() for col in item_features.columns]\n",
    "user_features.columns = [col.lower() for col in user_features.columns]\n",
    "\n",
    "item_features.rename(columns={'product_id': ITEM_COL}, inplace=True)\n",
    "user_features.rename(columns={'household_key': USER_COL }, inplace=True)"
   ]
  },
  {
   "cell_type": "markdown",
   "metadata": {},
   "source": [
    "# Split dataset for train, eval, test"
   ]
  },
  {
   "cell_type": "code",
   "execution_count": 6,
   "metadata": {},
   "outputs": [],
   "source": [
    "VAL_MATCHER_WEEKS = 6\n",
    "VAL_RANKER_WEEKS = 3"
   ]
  },
  {
   "cell_type": "code",
   "execution_count": 7,
   "metadata": {
    "scrolled": true
   },
   "outputs": [],
   "source": [
    "# train data\n",
    "data_train_matcher = data[data['week_no'] < data['week_no'].max() - (VAL_MATCHER_WEEKS + VAL_RANKER_WEEKS)]\n",
    "\n",
    "# val data\n",
    "data_val_matcher = data[(data['week_no'] >= data['week_no'].max() - (VAL_MATCHER_WEEKS + VAL_RANKER_WEEKS)) &\n",
    "                      (data['week_no'] < data['week_no'].max() - (VAL_RANKER_WEEKS))]\n",
    "\n",
    "# ranking train data\n",
    "data_train_ranker = data_val_matcher.copy()\n",
    "\n",
    "# ranking match test data\n",
    "data_val_ranker = data[data['week_no'] >= data['week_no'].max() - VAL_RANKER_WEEKS]"
   ]
  },
  {
   "cell_type": "code",
   "execution_count": 8,
   "metadata": {},
   "outputs": [],
   "source": [
    "df_join_train_matcher = pd.concat([data_train_matcher, data_val_matcher])"
   ]
  },
  {
   "cell_type": "markdown",
   "metadata": {},
   "source": [
    "# Prefilter items"
   ]
  },
  {
   "cell_type": "code",
   "execution_count": 13,
   "metadata": {
    "scrolled": false
   },
   "outputs": [
    {
     "name": "stderr",
     "output_type": "stream",
     "text": [
      "C:\\Users\\NitroPC\\Rec_Sys\\course_project\\utils.py:20: SettingWithCopyWarning: \n",
      "A value is trying to be set on a copy of a slice from a DataFrame.\n",
      "Try using .loc[row_indexer,col_indexer] = value instead\n",
      "\n",
      "See the caveats in the documentation: https://pandas.pydata.org/pandas-docs/stable/user_guide/indexing.html#returning-a-view-versus-a-copy\n",
      "  data['price'] = data['sales_value'] / (np.maximum(data['quantity'], 1))\n"
     ]
    },
    {
     "name": "stdout",
     "output_type": "stream",
     "text": [
      "Decreased # items from 83685 to 5001\n"
     ]
    }
   ],
   "source": [
    "n_items_before = data_train_matcher['item_id'].nunique()\n",
    "\n",
    "data_train_matcher = prefilter_items(data_train_matcher, item_features=item_features, take_n_popular=5000)\n",
    "\n",
    "n_items_after = data_train_matcher['item_id'].nunique()\n",
    "print('Decreased # items from {} to {}'.format(n_items_before, n_items_after))"
   ]
  },
  {
   "cell_type": "markdown",
   "metadata": {},
   "source": [
    "# Make cold-start to warm-start"
   ]
  },
  {
   "cell_type": "code",
   "execution_count": 14,
   "metadata": {},
   "outputs": [
    {
     "name": "stdout",
     "output_type": "stream",
     "text": [
      "train_matcher\n",
      "Shape: (784420, 13) Users: 1915 Items: 4999\n",
      "val_matcher\n",
      "Shape: (163261, 12) Users: 1915 Items: 27118\n",
      "train_ranker\n",
      "Shape: (163261, 12) Users: 1915 Items: 27118\n",
      "val_ranker\n",
      "Shape: (115989, 12) Users: 1915 Items: 24042\n"
     ]
    }
   ],
   "source": [
    "# finding common users\n",
    "common_users = list(set(data_train_matcher.user_id.values)&(set(data_val_matcher.user_id.values))&set(data_val_ranker.user_id.values))\n",
    "\n",
    "# keeping common users\n",
    "data_train_matcher = data_train_matcher[data_train_matcher.user_id.isin(common_users)]\n",
    "data_val_matcher = data_val_matcher[data_val_matcher.user_id.isin(common_users)]\n",
    "data_train_ranker = data_train_ranker[data_train_ranker.user_id.isin(common_users)]\n",
    "data_val_ranker = data_val_ranker[data_val_ranker.user_id.isin(common_users)]\n",
    "\n",
    "print_stats_data(data_train_matcher,'train_matcher')\n",
    "print_stats_data(data_val_matcher,'val_matcher')\n",
    "print_stats_data(data_train_ranker,'train_ranker')\n",
    "print_stats_data(data_val_ranker,'val_ranker')"
   ]
  },
  {
   "cell_type": "markdown",
   "metadata": {},
   "source": [
    "# Init/train recommender"
   ]
  },
  {
   "cell_type": "code",
   "execution_count": 15,
   "metadata": {},
   "outputs": [
    {
     "name": "stderr",
     "output_type": "stream",
     "text": [
      "WARNING:root:Intel MKL BLAS detected. Its highly recommend to set the environment variable 'export MKL_NUM_THREADS=1' to disable its internal multithreading\n"
     ]
    },
    {
     "data": {
      "application/vnd.jupyter.widget-view+json": {
       "model_id": "6cc4497d3b80445891b4fdc759f5a889",
       "version_major": 2,
       "version_minor": 0
      },
      "text/plain": [
       "  0%|          | 0/15 [00:00<?, ?it/s]"
      ]
     },
     "metadata": {},
     "output_type": "display_data"
    },
    {
     "data": {
      "application/vnd.jupyter.widget-view+json": {
       "model_id": "518366ee7a8b47d0ae1d04eb2a61079a",
       "version_major": 2,
       "version_minor": 0
      },
      "text/plain": [
       "  0%|          | 0/4999 [00:00<?, ?it/s]"
      ]
     },
     "metadata": {},
     "output_type": "display_data"
    }
   ],
   "source": [
    "recommender = MainRecommender(data_train_matcher)"
   ]
  },
  {
   "cell_type": "markdown",
   "metadata": {},
   "source": [
    "# Eval recall of matching"
   ]
  },
  {
   "cell_type": "code",
   "execution_count": 21,
   "metadata": {
    "scrolled": true
   },
   "outputs": [
    {
     "data": {
      "text/html": [
       "<div>\n",
       "<style scoped>\n",
       "    .dataframe tbody tr th:only-of-type {\n",
       "        vertical-align: middle;\n",
       "    }\n",
       "\n",
       "    .dataframe tbody tr th {\n",
       "        vertical-align: top;\n",
       "    }\n",
       "\n",
       "    .dataframe thead th {\n",
       "        text-align: right;\n",
       "    }\n",
       "</style>\n",
       "<table border=\"1\" class=\"dataframe\">\n",
       "  <thead>\n",
       "    <tr style=\"text-align: right;\">\n",
       "      <th></th>\n",
       "      <th>user_id</th>\n",
       "      <th>actual</th>\n",
       "    </tr>\n",
       "  </thead>\n",
       "  <tbody>\n",
       "    <tr>\n",
       "      <th>0</th>\n",
       "      <td>1</td>\n",
       "      <td>[853529, 865456, 867607, 872137, 874905, 87524...</td>\n",
       "    </tr>\n",
       "    <tr>\n",
       "      <th>1</th>\n",
       "      <td>6</td>\n",
       "      <td>[1024306, 1102949, 6548453, 835394, 940804, 96...</td>\n",
       "    </tr>\n",
       "  </tbody>\n",
       "</table>\n",
       "</div>"
      ],
      "text/plain": [
       "   user_id                                             actual\n",
       "0        1  [853529, 865456, 867607, 872137, 874905, 87524...\n",
       "1        6  [1024306, 1102949, 6548453, 835394, 940804, 96..."
      ]
     },
     "execution_count": 21,
     "metadata": {},
     "output_type": "execute_result"
    }
   ],
   "source": [
    "result_eval_matcher = data_val_matcher.groupby(USER_COL)[ITEM_COL].unique().reset_index()\n",
    "result_eval_matcher.columns=[USER_COL, ACTUAL_COL]\n",
    "result_eval_matcher.head(2)"
   ]
  },
  {
   "cell_type": "code",
   "execution_count": 22,
   "metadata": {
    "scrolled": false
   },
   "outputs": [
    {
     "name": "stdout",
     "output_type": "stream",
     "text": [
      "Wall time: 22.9 s\n"
     ]
    }
   ],
   "source": [
    "%%time\n",
    "result_eval_matcher['own_rec'] = result_eval_matcher[USER_COL].apply(lambda x: recommender.get_own_recommendations(x, N=N_PREDICT))\n",
    "result_eval_matcher['sim_item_rec'] = result_eval_matcher[USER_COL].apply(lambda x: recommender.get_similar_items_recommendation(x, N=N_PREDICT))\n",
    "result_eval_matcher['als_rec'] = result_eval_matcher[USER_COL].apply(lambda x: recommender.get_als_recommendations(x, N=N_PREDICT))"
   ]
  },
  {
   "cell_type": "code",
   "execution_count": 24,
   "metadata": {},
   "outputs": [],
   "source": [
    "def evalRecall(df_result, target_col_name, recommend_model):\n",
    "    result_col_name = 'result'\n",
    "    df_result[result_col_name] = df_result[target_col_name].apply(lambda x: recommend_model(x, N=25))\n",
    "    return df_result.apply(lambda row: recall_at_k(row[result_col_name], row[ACTUAL_COL], k=N_PREDICT), axis=1).mean()"
   ]
  },
  {
   "cell_type": "code",
   "execution_count": 26,
   "metadata": {},
   "outputs": [],
   "source": [
    "def calc_recall(df_data, top_k):\n",
    "    for col_name in df_data.columns[2:]:\n",
    "        yield col_name, df_data.apply(lambda row: recall_at_k(row[col_name], row[ACTUAL_COL], k=top_k), axis=1).mean()"
   ]
  },
  {
   "cell_type": "code",
   "execution_count": 27,
   "metadata": {},
   "outputs": [],
   "source": [
    "def calc_precision(df_data, top_k):\n",
    "    for col_name in df_data.columns[2:]:\n",
    "        yield col_name, df_data.apply(lambda row: precision_at_k(row[col_name], row[ACTUAL_COL], k=top_k), axis=1).mean()"
   ]
  },
  {
   "cell_type": "markdown",
   "metadata": {},
   "source": [
    "### Precision@5 of matching"
   ]
  },
  {
   "cell_type": "code",
   "execution_count": 30,
   "metadata": {},
   "outputs": [],
   "source": [
    "TOPK_PRECISION = 5"
   ]
  },
  {
   "cell_type": "code",
   "execution_count": 31,
   "metadata": {},
   "outputs": [
    {
     "data": {
      "text/plain": [
       "[('own_rec', 0.18872062663185182),\n",
       " ('als_rec', 0.12793733681462036),\n",
       " ('sim_item_rec', 0.06527415143603181)]"
      ]
     },
     "execution_count": 31,
     "metadata": {},
     "output_type": "execute_result"
    }
   ],
   "source": [
    "sorted(calc_precision(result_eval_matcher, TOPK_PRECISION), key=lambda x: x[1],reverse=True)"
   ]
  },
  {
   "cell_type": "markdown",
   "metadata": {},
   "source": [
    "# Ranking part"
   ]
  },
  {
   "cell_type": "code",
   "execution_count": 33,
   "metadata": {},
   "outputs": [],
   "source": [
    "df_match_candidates = pd.DataFrame(data_train_ranker[USER_COL].unique())\n",
    "df_match_candidates.columns = [USER_COL]"
   ]
  },
  {
   "cell_type": "code",
   "execution_count": 34,
   "metadata": {},
   "outputs": [],
   "source": [
    "df_match_candidates['candidates'] = df_match_candidates[USER_COL].apply(lambda x: recommender.get_own_recommendations(x, N=N_PREDICT))"
   ]
  },
  {
   "cell_type": "code",
   "execution_count": 36,
   "metadata": {},
   "outputs": [],
   "source": [
    "df_items = df_match_candidates.apply(lambda x: pd.Series(x['candidates']), axis=1).stack().reset_index(level=1, drop=True)\n",
    "df_items.name = 'item_id'"
   ]
  },
  {
   "cell_type": "code",
   "execution_count": 37,
   "metadata": {},
   "outputs": [],
   "source": [
    "df_match_candidates = df_match_candidates.drop('candidates', axis=1).join(df_items)"
   ]
  },
  {
   "cell_type": "markdown",
   "metadata": {},
   "source": [
    "### Check warm start"
   ]
  },
  {
   "cell_type": "code",
   "execution_count": 39,
   "metadata": {
    "scrolled": true
   },
   "outputs": [
    {
     "name": "stdout",
     "output_type": "stream",
     "text": [
      "match_candidates\n",
      "Shape: (95750, 2) Users: 1915 Items: 4437\n"
     ]
    }
   ],
   "source": [
    "print_stats_data(df_match_candidates, 'match_candidates')"
   ]
  },
  {
   "cell_type": "code",
   "execution_count": 177,
   "metadata": {},
   "outputs": [],
   "source": [
    "df_ranker_train = data_train_ranker[[USER_COL, ITEM_COL]].copy()\n",
    "df_ranker_train['target'] = 1\n",
    "\n",
    "df_ranker_train = df_match_candidates.merge(df_ranker_train, on=[USER_COL, ITEM_COL], how='left')\n",
    "\n",
    "df_ranker_train['target'].fillna(0, inplace= True)"
   ]
  },
  {
   "cell_type": "code",
   "execution_count": 180,
   "metadata": {},
   "outputs": [
    {
     "data": {
      "text/plain": [
       "0.11119830179378062"
      ]
     },
     "execution_count": 180,
     "metadata": {},
     "output_type": "execute_result"
    }
   ],
   "source": [
    "df_ranker_train['target'].mean()"
   ]
  },
  {
   "cell_type": "markdown",
   "metadata": {},
   "source": [
    "## Feature preparation"
   ]
  },
  {
   "cell_type": "markdown",
   "metadata": {},
   "source": [
    "### Descriptive features"
   ]
  },
  {
   "cell_type": "code",
   "execution_count": 181,
   "metadata": {},
   "outputs": [
    {
     "data": {
      "text/html": [
       "<div>\n",
       "<style scoped>\n",
       "    .dataframe tbody tr th:only-of-type {\n",
       "        vertical-align: middle;\n",
       "    }\n",
       "\n",
       "    .dataframe tbody tr th {\n",
       "        vertical-align: top;\n",
       "    }\n",
       "\n",
       "    .dataframe thead th {\n",
       "        text-align: right;\n",
       "    }\n",
       "</style>\n",
       "<table border=\"1\" class=\"dataframe\">\n",
       "  <thead>\n",
       "    <tr style=\"text-align: right;\">\n",
       "      <th></th>\n",
       "      <th>item_id</th>\n",
       "      <th>manufacturer</th>\n",
       "      <th>department</th>\n",
       "      <th>brand</th>\n",
       "      <th>commodity_desc</th>\n",
       "      <th>sub_commodity_desc</th>\n",
       "      <th>curr_size_of_product</th>\n",
       "    </tr>\n",
       "  </thead>\n",
       "  <tbody>\n",
       "    <tr>\n",
       "      <th>0</th>\n",
       "      <td>25671</td>\n",
       "      <td>2</td>\n",
       "      <td>GROCERY</td>\n",
       "      <td>National</td>\n",
       "      <td>FRZN ICE</td>\n",
       "      <td>ICE - CRUSHED/CUBED</td>\n",
       "      <td>22 LB</td>\n",
       "    </tr>\n",
       "    <tr>\n",
       "      <th>1</th>\n",
       "      <td>26081</td>\n",
       "      <td>2</td>\n",
       "      <td>MISC. TRANS.</td>\n",
       "      <td>National</td>\n",
       "      <td>NO COMMODITY DESCRIPTION</td>\n",
       "      <td>NO SUBCOMMODITY DESCRIPTION</td>\n",
       "      <td></td>\n",
       "    </tr>\n",
       "  </tbody>\n",
       "</table>\n",
       "</div>"
      ],
      "text/plain": [
       "   item_id  manufacturer    department     brand            commodity_desc  \\\n",
       "0    25671             2       GROCERY  National                  FRZN ICE   \n",
       "1    26081             2  MISC. TRANS.  National  NO COMMODITY DESCRIPTION   \n",
       "\n",
       "            sub_commodity_desc curr_size_of_product  \n",
       "0          ICE - CRUSHED/CUBED                22 LB  \n",
       "1  NO SUBCOMMODITY DESCRIPTION                       "
      ]
     },
     "execution_count": 181,
     "metadata": {},
     "output_type": "execute_result"
    }
   ],
   "source": [
    "item_features.head(2)"
   ]
  },
  {
   "cell_type": "code",
   "execution_count": 182,
   "metadata": {},
   "outputs": [
    {
     "data": {
      "text/html": [
       "<div>\n",
       "<style scoped>\n",
       "    .dataframe tbody tr th:only-of-type {\n",
       "        vertical-align: middle;\n",
       "    }\n",
       "\n",
       "    .dataframe tbody tr th {\n",
       "        vertical-align: top;\n",
       "    }\n",
       "\n",
       "    .dataframe thead th {\n",
       "        text-align: right;\n",
       "    }\n",
       "</style>\n",
       "<table border=\"1\" class=\"dataframe\">\n",
       "  <thead>\n",
       "    <tr style=\"text-align: right;\">\n",
       "      <th></th>\n",
       "      <th>age_desc</th>\n",
       "      <th>marital_status_code</th>\n",
       "      <th>income_desc</th>\n",
       "      <th>homeowner_desc</th>\n",
       "      <th>hh_comp_desc</th>\n",
       "      <th>household_size_desc</th>\n",
       "      <th>kid_category_desc</th>\n",
       "      <th>user_id</th>\n",
       "    </tr>\n",
       "  </thead>\n",
       "  <tbody>\n",
       "    <tr>\n",
       "      <th>0</th>\n",
       "      <td>65+</td>\n",
       "      <td>A</td>\n",
       "      <td>35-49K</td>\n",
       "      <td>Homeowner</td>\n",
       "      <td>2 Adults No Kids</td>\n",
       "      <td>2</td>\n",
       "      <td>None/Unknown</td>\n",
       "      <td>1</td>\n",
       "    </tr>\n",
       "    <tr>\n",
       "      <th>1</th>\n",
       "      <td>45-54</td>\n",
       "      <td>A</td>\n",
       "      <td>50-74K</td>\n",
       "      <td>Homeowner</td>\n",
       "      <td>2 Adults No Kids</td>\n",
       "      <td>2</td>\n",
       "      <td>None/Unknown</td>\n",
       "      <td>7</td>\n",
       "    </tr>\n",
       "  </tbody>\n",
       "</table>\n",
       "</div>"
      ],
      "text/plain": [
       "  age_desc marital_status_code income_desc homeowner_desc      hh_comp_desc  \\\n",
       "0      65+                   A      35-49K      Homeowner  2 Adults No Kids   \n",
       "1    45-54                   A      50-74K      Homeowner  2 Adults No Kids   \n",
       "\n",
       "  household_size_desc kid_category_desc  user_id  \n",
       "0                   2      None/Unknown        1  \n",
       "1                   2      None/Unknown        7  "
      ]
     },
     "execution_count": 182,
     "metadata": {},
     "output_type": "execute_result"
    }
   ],
   "source": [
    "user_features.head(2)"
   ]
  },
  {
   "cell_type": "code",
   "execution_count": 183,
   "metadata": {},
   "outputs": [
    {
     "data": {
      "text/html": [
       "<div>\n",
       "<style scoped>\n",
       "    .dataframe tbody tr th:only-of-type {\n",
       "        vertical-align: middle;\n",
       "    }\n",
       "\n",
       "    .dataframe tbody tr th {\n",
       "        vertical-align: top;\n",
       "    }\n",
       "\n",
       "    .dataframe thead th {\n",
       "        text-align: right;\n",
       "    }\n",
       "</style>\n",
       "<table border=\"1\" class=\"dataframe\">\n",
       "  <thead>\n",
       "    <tr style=\"text-align: right;\">\n",
       "      <th></th>\n",
       "      <th>user_id</th>\n",
       "      <th>item_id</th>\n",
       "      <th>target</th>\n",
       "      <th>manufacturer</th>\n",
       "      <th>department</th>\n",
       "      <th>brand</th>\n",
       "      <th>commodity_desc</th>\n",
       "      <th>sub_commodity_desc</th>\n",
       "      <th>curr_size_of_product</th>\n",
       "      <th>age_desc</th>\n",
       "      <th>marital_status_code</th>\n",
       "      <th>income_desc</th>\n",
       "      <th>homeowner_desc</th>\n",
       "      <th>hh_comp_desc</th>\n",
       "      <th>household_size_desc</th>\n",
       "      <th>kid_category_desc</th>\n",
       "    </tr>\n",
       "  </thead>\n",
       "  <tbody>\n",
       "    <tr>\n",
       "      <th>0</th>\n",
       "      <td>2070</td>\n",
       "      <td>1105426</td>\n",
       "      <td>0.0</td>\n",
       "      <td>69</td>\n",
       "      <td>DELI</td>\n",
       "      <td>Private</td>\n",
       "      <td>SANDWICHES</td>\n",
       "      <td>SANDWICHES - (COLD)</td>\n",
       "      <td></td>\n",
       "      <td>45-54</td>\n",
       "      <td>U</td>\n",
       "      <td>50-74K</td>\n",
       "      <td>Unknown</td>\n",
       "      <td>Unknown</td>\n",
       "      <td>1</td>\n",
       "      <td>None/Unknown</td>\n",
       "    </tr>\n",
       "    <tr>\n",
       "      <th>1</th>\n",
       "      <td>2070</td>\n",
       "      <td>1097350</td>\n",
       "      <td>0.0</td>\n",
       "      <td>2468</td>\n",
       "      <td>GROCERY</td>\n",
       "      <td>National</td>\n",
       "      <td>DOMESTIC WINE</td>\n",
       "      <td>VALUE GLASS WINE</td>\n",
       "      <td>4 LTR</td>\n",
       "      <td>45-54</td>\n",
       "      <td>U</td>\n",
       "      <td>50-74K</td>\n",
       "      <td>Unknown</td>\n",
       "      <td>Unknown</td>\n",
       "      <td>1</td>\n",
       "      <td>None/Unknown</td>\n",
       "    </tr>\n",
       "  </tbody>\n",
       "</table>\n",
       "</div>"
      ],
      "text/plain": [
       "   user_id  item_id  target  manufacturer department     brand commodity_desc  \\\n",
       "0     2070  1105426     0.0            69       DELI   Private     SANDWICHES   \n",
       "1     2070  1097350     0.0          2468    GROCERY  National  DOMESTIC WINE   \n",
       "\n",
       "    sub_commodity_desc curr_size_of_product age_desc marital_status_code  \\\n",
       "0  SANDWICHES - (COLD)                         45-54                   U   \n",
       "1     VALUE GLASS WINE                4 LTR    45-54                   U   \n",
       "\n",
       "  income_desc homeowner_desc hh_comp_desc household_size_desc  \\\n",
       "0      50-74K        Unknown      Unknown                   1   \n",
       "1      50-74K        Unknown      Unknown                   1   \n",
       "\n",
       "  kid_category_desc  \n",
       "0      None/Unknown  \n",
       "1      None/Unknown  "
      ]
     },
     "execution_count": 183,
     "metadata": {},
     "output_type": "execute_result"
    }
   ],
   "source": [
    "df_ranker_train = df_ranker_train.merge(item_features, on='item_id', how='left')\n",
    "df_ranker_train = df_ranker_train.merge(user_features, on='user_id', how='left')\n",
    "\n",
    "df_ranker_train.head(2)"
   ]
  },
  {
   "cell_type": "code",
   "execution_count": 184,
   "metadata": {},
   "outputs": [],
   "source": [
    "data_train_features = data_train_matcher.merge(item_features[['item_id','department']], on='item_id', how='left')"
   ]
  },
  {
   "cell_type": "code",
   "execution_count": 185,
   "metadata": {},
   "outputs": [
    {
     "name": "stdout",
     "output_type": "stream",
     "text": [
      "Wall time: 13.2 s\n"
     ]
    }
   ],
   "source": [
    "%%time\n",
    "# Mean purchase\n",
    "\n",
    "for user_id in data_train_features['user_id'].unique():\n",
    "    data_train_features.loc[data_train_features['user_id']==user_id, 'mean_purchase_sum']=data_train_features.loc[\n",
    "        data_train_features['user_id']==user_id].groupby(['day'])['sales_value'].sum().mean()"
   ]
  },
  {
   "cell_type": "code",
   "execution_count": 186,
   "metadata": {},
   "outputs": [
    {
     "name": "stdout",
     "output_type": "stream",
     "text": [
      "Wall time: 8min 17s\n"
     ]
    }
   ],
   "source": [
    "%%time\n",
    "# Num of purchases in each category\n",
    "\n",
    "for user_id in data_train_matcher['user_id'].unique():\n",
    "    purchase_dict = dict(data_train_features.loc[data_train_features['user_id']==user_id].groupby(['department'])['quantity'].sum())\n",
    "    for item_dept in list(purchase_dict.keys()):\n",
    "        data_train_features.loc[(data_train_features['user_id']==user_id) & (data_train_features['department']==item_dept), 'purch_by_dept'] = purchase_dict[item_dept]"
   ]
  },
  {
   "cell_type": "code",
   "execution_count": 187,
   "metadata": {},
   "outputs": [
    {
     "name": "stdout",
     "output_type": "stream",
     "text": [
      "Wall time: 35.5 s\n"
     ]
    }
   ],
   "source": [
    "%%time\n",
    "# Num of purchases per week\n",
    "\n",
    "for item_id in data_train_features['item_id'].unique():\n",
    "    data_train_features.loc[data_train_features['item_id']==item_id, 'mean_purchase_per_week']=data_train_features.loc[\n",
    "        data_train_features['item_id']==item_id].groupby(['week_no'])['quantity'].sum().mean()"
   ]
  },
  {
   "cell_type": "code",
   "execution_count": 188,
   "metadata": {},
   "outputs": [
    {
     "name": "stdout",
     "output_type": "stream",
     "text": [
      "Wall time: 1.41 s\n"
     ]
    }
   ],
   "source": [
    "%%time\n",
    "# Num of purchases in one category per week\n",
    "\n",
    "for department in data_train_features['department'].unique():\n",
    "    mean_sum = data_train_features.loc[data_train_features['department']==department].groupby(['week_no'])['quantity'].sum().mean()\n",
    "    num_of_items = data_train_features.loc[data_train_features['department']==department, 'item_id'].nunique()\n",
    "    if num_of_items > 0:\n",
    "        data_train_features.loc[data_train_features['department']==department, 'mean_of_items']= mean_sum / num_of_items"
   ]
  },
  {
   "cell_type": "code",
   "execution_count": 189,
   "metadata": {},
   "outputs": [
    {
     "name": "stdout",
     "output_type": "stream",
     "text": [
      "Wall time: 1.43 s\n"
     ]
    }
   ],
   "source": [
    "%%time\n",
    "# Mean num of purchases in one category per user per week\n",
    "\n",
    "for department in data_train_features['department'].unique():\n",
    "    mean_sum = data_train_features.loc[data_train_features['department']==department].groupby(['week_no'])['quantity'].sum().mean()\n",
    "    num_of_users = data_train_features.loc[data_train_features['department']==department, 'user_id'].nunique()\n",
    "    if num_of_users > 0:\n",
    "        data_train_features.loc[data_train_features['department']==department, 'mean_of_users']= mean_sum / num_of_users"
   ]
  },
  {
   "cell_type": "code",
   "execution_count": 190,
   "metadata": {},
   "outputs": [
    {
     "name": "stdout",
     "output_type": "stream",
     "text": [
      "Wall time: 4 ms\n"
     ]
    }
   ],
   "source": [
    "%%time\n",
    "# (Num of purchases in one category per week by user) / (Mean num of purchases in one category per user per week)\n",
    "\n",
    "data_train_features['dept_mean'] = data_train_features['purch_by_dept']/data_train_features['mean_of_users']"
   ]
  },
  {
   "cell_type": "code",
   "execution_count": 191,
   "metadata": {},
   "outputs": [],
   "source": [
    "data_train_added_features = data_train_features[\n",
    "    ['user_id','item_id','mean_purchase_sum', \n",
    "     'purch_by_dept','mean_purchase_per_week',\n",
    "     'mean_of_items','mean_of_users','dept_mean']]"
   ]
  },
  {
   "cell_type": "code",
   "execution_count": 192,
   "metadata": {},
   "outputs": [
    {
     "data": {
      "text/html": [
       "<div>\n",
       "<style scoped>\n",
       "    .dataframe tbody tr th:only-of-type {\n",
       "        vertical-align: middle;\n",
       "    }\n",
       "\n",
       "    .dataframe tbody tr th {\n",
       "        vertical-align: top;\n",
       "    }\n",
       "\n",
       "    .dataframe thead th {\n",
       "        text-align: right;\n",
       "    }\n",
       "</style>\n",
       "<table border=\"1\" class=\"dataframe\">\n",
       "  <thead>\n",
       "    <tr style=\"text-align: right;\">\n",
       "      <th></th>\n",
       "      <th>user_id</th>\n",
       "      <th>item_id</th>\n",
       "      <th>mean_purchase_sum</th>\n",
       "      <th>purch_by_dept</th>\n",
       "      <th>mean_purchase_per_week</th>\n",
       "      <th>mean_of_items</th>\n",
       "      <th>mean_of_users</th>\n",
       "      <th>dept_mean</th>\n",
       "    </tr>\n",
       "  </thead>\n",
       "  <tbody>\n",
       "    <tr>\n",
       "      <th>0</th>\n",
       "      <td>2375</td>\n",
       "      <td>1085983</td>\n",
       "      <td>27.839038</td>\n",
       "      <td>99.0</td>\n",
       "      <td>3.973333</td>\n",
       "      <td>1.273458</td>\n",
       "      <td>2.161061</td>\n",
       "      <td>45.810836</td>\n",
       "    </tr>\n",
       "    <tr>\n",
       "      <th>1</th>\n",
       "      <td>1364</td>\n",
       "      <td>999999</td>\n",
       "      <td>13.881122</td>\n",
       "      <td>NaN</td>\n",
       "      <td>3234.305882</td>\n",
       "      <td>NaN</td>\n",
       "      <td>NaN</td>\n",
       "      <td>NaN</td>\n",
       "    </tr>\n",
       "    <tr>\n",
       "      <th>2</th>\n",
       "      <td>1364</td>\n",
       "      <td>999999</td>\n",
       "      <td>13.881122</td>\n",
       "      <td>NaN</td>\n",
       "      <td>3234.305882</td>\n",
       "      <td>NaN</td>\n",
       "      <td>NaN</td>\n",
       "      <td>NaN</td>\n",
       "    </tr>\n",
       "    <tr>\n",
       "      <th>3</th>\n",
       "      <td>1364</td>\n",
       "      <td>999999</td>\n",
       "      <td>13.881122</td>\n",
       "      <td>NaN</td>\n",
       "      <td>3234.305882</td>\n",
       "      <td>NaN</td>\n",
       "      <td>NaN</td>\n",
       "      <td>NaN</td>\n",
       "    </tr>\n",
       "    <tr>\n",
       "      <th>4</th>\n",
       "      <td>1364</td>\n",
       "      <td>937406</td>\n",
       "      <td>13.881122</td>\n",
       "      <td>21.0</td>\n",
       "      <td>1.815789</td>\n",
       "      <td>1.547085</td>\n",
       "      <td>0.383733</td>\n",
       "      <td>54.725587</td>\n",
       "    </tr>\n",
       "    <tr>\n",
       "      <th>...</th>\n",
       "      <td>...</td>\n",
       "      <td>...</td>\n",
       "      <td>...</td>\n",
       "      <td>...</td>\n",
       "      <td>...</td>\n",
       "      <td>...</td>\n",
       "      <td>...</td>\n",
       "      <td>...</td>\n",
       "    </tr>\n",
       "    <tr>\n",
       "      <th>784415</th>\n",
       "      <td>856</td>\n",
       "      <td>999999</td>\n",
       "      <td>20.200818</td>\n",
       "      <td>NaN</td>\n",
       "      <td>3234.305882</td>\n",
       "      <td>NaN</td>\n",
       "      <td>NaN</td>\n",
       "      <td>NaN</td>\n",
       "    </tr>\n",
       "    <tr>\n",
       "      <th>784416</th>\n",
       "      <td>856</td>\n",
       "      <td>937454</td>\n",
       "      <td>20.200818</td>\n",
       "      <td>238.0</td>\n",
       "      <td>1.552632</td>\n",
       "      <td>1.273458</td>\n",
       "      <td>2.161061</td>\n",
       "      <td>110.131102</td>\n",
       "    </tr>\n",
       "    <tr>\n",
       "      <th>784417</th>\n",
       "      <td>856</td>\n",
       "      <td>999999</td>\n",
       "      <td>20.200818</td>\n",
       "      <td>NaN</td>\n",
       "      <td>3234.305882</td>\n",
       "      <td>NaN</td>\n",
       "      <td>NaN</td>\n",
       "      <td>NaN</td>\n",
       "    </tr>\n",
       "    <tr>\n",
       "      <th>784418</th>\n",
       "      <td>856</td>\n",
       "      <td>1132814</td>\n",
       "      <td>20.200818</td>\n",
       "      <td>238.0</td>\n",
       "      <td>1.622222</td>\n",
       "      <td>1.273458</td>\n",
       "      <td>2.161061</td>\n",
       "      <td>110.131102</td>\n",
       "    </tr>\n",
       "    <tr>\n",
       "      <th>784419</th>\n",
       "      <td>856</td>\n",
       "      <td>999999</td>\n",
       "      <td>20.200818</td>\n",
       "      <td>NaN</td>\n",
       "      <td>3234.305882</td>\n",
       "      <td>NaN</td>\n",
       "      <td>NaN</td>\n",
       "      <td>NaN</td>\n",
       "    </tr>\n",
       "  </tbody>\n",
       "</table>\n",
       "<p>784420 rows × 8 columns</p>\n",
       "</div>"
      ],
      "text/plain": [
       "        user_id  item_id  mean_purchase_sum  purch_by_dept  \\\n",
       "0          2375  1085983          27.839038           99.0   \n",
       "1          1364   999999          13.881122            NaN   \n",
       "2          1364   999999          13.881122            NaN   \n",
       "3          1364   999999          13.881122            NaN   \n",
       "4          1364   937406          13.881122           21.0   \n",
       "...         ...      ...                ...            ...   \n",
       "784415      856   999999          20.200818            NaN   \n",
       "784416      856   937454          20.200818          238.0   \n",
       "784417      856   999999          20.200818            NaN   \n",
       "784418      856  1132814          20.200818          238.0   \n",
       "784419      856   999999          20.200818            NaN   \n",
       "\n",
       "        mean_purchase_per_week  mean_of_items  mean_of_users   dept_mean  \n",
       "0                     3.973333       1.273458       2.161061   45.810836  \n",
       "1                  3234.305882            NaN            NaN         NaN  \n",
       "2                  3234.305882            NaN            NaN         NaN  \n",
       "3                  3234.305882            NaN            NaN         NaN  \n",
       "4                     1.815789       1.547085       0.383733   54.725587  \n",
       "...                        ...            ...            ...         ...  \n",
       "784415             3234.305882            NaN            NaN         NaN  \n",
       "784416                1.552632       1.273458       2.161061  110.131102  \n",
       "784417             3234.305882            NaN            NaN         NaN  \n",
       "784418                1.622222       1.273458       2.161061  110.131102  \n",
       "784419             3234.305882            NaN            NaN         NaN  \n",
       "\n",
       "[784420 rows x 8 columns]"
      ]
     },
     "execution_count": 192,
     "metadata": {},
     "output_type": "execute_result"
    }
   ],
   "source": [
    "data_train_added_features"
   ]
  },
  {
   "cell_type": "markdown",
   "metadata": {},
   "source": [
    "### Behavioural features"
   ]
  },
  {
   "cell_type": "code",
   "execution_count": 193,
   "metadata": {
    "scrolled": false
   },
   "outputs": [
    {
     "data": {
      "text/html": [
       "<div>\n",
       "<style scoped>\n",
       "    .dataframe tbody tr th:only-of-type {\n",
       "        vertical-align: middle;\n",
       "    }\n",
       "\n",
       "    .dataframe tbody tr th {\n",
       "        vertical-align: top;\n",
       "    }\n",
       "\n",
       "    .dataframe thead th {\n",
       "        text-align: right;\n",
       "    }\n",
       "</style>\n",
       "<table border=\"1\" class=\"dataframe\">\n",
       "  <thead>\n",
       "    <tr style=\"text-align: right;\">\n",
       "      <th></th>\n",
       "      <th>user_id</th>\n",
       "      <th>basket_id</th>\n",
       "      <th>day</th>\n",
       "      <th>item_id</th>\n",
       "      <th>quantity</th>\n",
       "      <th>sales_value</th>\n",
       "      <th>store_id</th>\n",
       "      <th>retail_disc</th>\n",
       "      <th>trans_time</th>\n",
       "      <th>week_no</th>\n",
       "      <th>coupon_disc</th>\n",
       "      <th>coupon_match_disc</th>\n",
       "    </tr>\n",
       "  </thead>\n",
       "  <tbody>\n",
       "    <tr>\n",
       "      <th>0</th>\n",
       "      <td>2375</td>\n",
       "      <td>26984851472</td>\n",
       "      <td>1</td>\n",
       "      <td>1004906</td>\n",
       "      <td>1</td>\n",
       "      <td>1.39</td>\n",
       "      <td>364</td>\n",
       "      <td>-0.60</td>\n",
       "      <td>1631</td>\n",
       "      <td>1</td>\n",
       "      <td>0.0</td>\n",
       "      <td>0.0</td>\n",
       "    </tr>\n",
       "    <tr>\n",
       "      <th>1</th>\n",
       "      <td>2375</td>\n",
       "      <td>26984851472</td>\n",
       "      <td>1</td>\n",
       "      <td>1033142</td>\n",
       "      <td>1</td>\n",
       "      <td>0.82</td>\n",
       "      <td>364</td>\n",
       "      <td>0.00</td>\n",
       "      <td>1631</td>\n",
       "      <td>1</td>\n",
       "      <td>0.0</td>\n",
       "      <td>0.0</td>\n",
       "    </tr>\n",
       "    <tr>\n",
       "      <th>2</th>\n",
       "      <td>2375</td>\n",
       "      <td>26984851472</td>\n",
       "      <td>1</td>\n",
       "      <td>1036325</td>\n",
       "      <td>1</td>\n",
       "      <td>0.99</td>\n",
       "      <td>364</td>\n",
       "      <td>-0.30</td>\n",
       "      <td>1631</td>\n",
       "      <td>1</td>\n",
       "      <td>0.0</td>\n",
       "      <td>0.0</td>\n",
       "    </tr>\n",
       "    <tr>\n",
       "      <th>3</th>\n",
       "      <td>2375</td>\n",
       "      <td>26984851472</td>\n",
       "      <td>1</td>\n",
       "      <td>1082185</td>\n",
       "      <td>1</td>\n",
       "      <td>1.21</td>\n",
       "      <td>364</td>\n",
       "      <td>0.00</td>\n",
       "      <td>1631</td>\n",
       "      <td>1</td>\n",
       "      <td>0.0</td>\n",
       "      <td>0.0</td>\n",
       "    </tr>\n",
       "    <tr>\n",
       "      <th>4</th>\n",
       "      <td>2375</td>\n",
       "      <td>26984851472</td>\n",
       "      <td>1</td>\n",
       "      <td>8160430</td>\n",
       "      <td>1</td>\n",
       "      <td>1.50</td>\n",
       "      <td>364</td>\n",
       "      <td>-0.39</td>\n",
       "      <td>1631</td>\n",
       "      <td>1</td>\n",
       "      <td>0.0</td>\n",
       "      <td>0.0</td>\n",
       "    </tr>\n",
       "  </tbody>\n",
       "</table>\n",
       "</div>"
      ],
      "text/plain": [
       "   user_id    basket_id  day  item_id  quantity  sales_value  store_id  \\\n",
       "0     2375  26984851472    1  1004906         1         1.39       364   \n",
       "1     2375  26984851472    1  1033142         1         0.82       364   \n",
       "2     2375  26984851472    1  1036325         1         0.99       364   \n",
       "3     2375  26984851472    1  1082185         1         1.21       364   \n",
       "4     2375  26984851472    1  8160430         1         1.50       364   \n",
       "\n",
       "   retail_disc  trans_time  week_no  coupon_disc  coupon_match_disc  \n",
       "0        -0.60        1631        1          0.0                0.0  \n",
       "1         0.00        1631        1          0.0                0.0  \n",
       "2        -0.30        1631        1          0.0                0.0  \n",
       "3         0.00        1631        1          0.0                0.0  \n",
       "4        -0.39        1631        1          0.0                0.0  "
      ]
     },
     "execution_count": 193,
     "metadata": {},
     "output_type": "execute_result"
    }
   ],
   "source": [
    "df_join_train_matcher.head()"
   ]
  },
  {
   "cell_type": "code",
   "execution_count": 194,
   "metadata": {},
   "outputs": [],
   "source": [
    "df_ranker_train = df_ranker_train.merge(df_join_train_matcher.groupby(by=ITEM_COL).agg('sales_value').sum().rename('total_item_sales_value'), how='left',on=ITEM_COL)\n",
    "\n",
    "df_ranker_train = df_ranker_train.merge(df_join_train_matcher.groupby(by=ITEM_COL).agg('quantity').sum().rename('total_quantity_value'), how='left',on=ITEM_COL)\n",
    "\n",
    "df_ranker_train = df_ranker_train.merge(df_join_train_matcher.groupby(by=ITEM_COL).agg(USER_COL).count().rename('item_freq'), how='left',on=ITEM_COL)\n",
    "\n",
    "df_ranker_train = df_ranker_train.merge(df_join_train_matcher.groupby(by=USER_COL).agg(USER_COL).count().rename('user_freq'), how='left',on=USER_COL)\n",
    "\n",
    "df_ranker_train = df_ranker_train.merge(df_join_train_matcher.groupby(by=USER_COL).agg('sales_value').sum().rename('total_user_sales_value'), how='left',on=USER_COL)\n",
    "\n",
    "df_ranker_train = df_ranker_train.merge(df_join_train_matcher.groupby(by=ITEM_COL).agg('quantity').sum().rename('item_quantity_per_week')/df_join_train_matcher.week_no.nunique(), how='left',on=ITEM_COL)\n",
    "\n",
    "df_ranker_train = df_ranker_train.merge(df_join_train_matcher.groupby(by=USER_COL).agg('quantity').sum().rename('user_quantity_per_week')/df_join_train_matcher.week_no.nunique(), how='left',on=USER_COL)\n",
    "\n",
    "\n",
    "df_ranker_train = df_ranker_train.merge(df_join_train_matcher.groupby(by=ITEM_COL).agg('quantity').sum().rename('item_quantity_per_basket')/df_join_train_matcher.basket_id.nunique(), how='left',on=ITEM_COL)\n",
    "\n",
    "df_ranker_train = df_ranker_train.merge(df_join_train_matcher.groupby(by=USER_COL).agg('quantity').sum().rename('user_quantity_per_baskter')/df_join_train_matcher.basket_id.nunique(), how='left',on=USER_COL)\n",
    "\n",
    "\n",
    "df_ranker_train = df_ranker_train.merge(df_join_train_matcher.groupby(by=ITEM_COL).agg(USER_COL).count().rename('item_freq_per_basket')/df_join_train_matcher.basket_id.nunique(), how='left',on=ITEM_COL)\n",
    "\n",
    "df_ranker_train = df_ranker_train.merge(df_join_train_matcher.groupby(by=USER_COL).agg(USER_COL).count().rename('user_freq_per_basket')/df_join_train_matcher.basket_id.nunique(), how='left',on=USER_COL)\n"
   ]
  },
  {
   "cell_type": "code",
   "execution_count": 196,
   "metadata": {},
   "outputs": [],
   "source": [
    "df_ranker_train = df_ranker_train.merge(data_train_added_features, on=[USER_COL, ITEM_COL], how='left')"
   ]
  },
  {
   "cell_type": "code",
   "execution_count": 197,
   "metadata": {},
   "outputs": [],
   "source": [
    "df_ranker_train.drop_duplicates(subset = ['user_id', 'item_id'], inplace=True)\n",
    "df_ranker_train.fillna('', inplace= True)"
   ]
  },
  {
   "cell_type": "code",
   "execution_count": 199,
   "metadata": {},
   "outputs": [],
   "source": [
    "X_train = df_ranker_train.drop('target', axis=1)\n",
    "y_train = df_ranker_train[['target']]"
   ]
  },
  {
   "cell_type": "code",
   "execution_count": 200,
   "metadata": {
    "scrolled": true
   },
   "outputs": [
    {
     "data": {
      "text/plain": [
       "['manufacturer',\n",
       " 'department',\n",
       " 'brand',\n",
       " 'commodity_desc',\n",
       " 'sub_commodity_desc',\n",
       " 'curr_size_of_product',\n",
       " 'age_desc',\n",
       " 'marital_status_code',\n",
       " 'income_desc',\n",
       " 'homeowner_desc',\n",
       " 'hh_comp_desc',\n",
       " 'household_size_desc',\n",
       " 'kid_category_desc']"
      ]
     },
     "execution_count": 200,
     "metadata": {},
     "output_type": "execute_result"
    }
   ],
   "source": [
    "cat_feats = X_train.columns[2:15].tolist()\n",
    "X_train[cat_feats] = X_train[cat_feats].astype('category')\n",
    "\n",
    "cat_feats"
   ]
  },
  {
   "cell_type": "markdown",
   "metadata": {},
   "source": [
    "## Train ranking"
   ]
  },
  {
   "cell_type": "code",
   "execution_count": 162,
   "metadata": {},
   "outputs": [],
   "source": [
    "from catboost import CatBoostClassifier"
   ]
  },
  {
   "cell_type": "code",
   "execution_count": 205,
   "metadata": {
    "scrolled": false
   },
   "outputs": [
    {
     "name": "stdout",
     "output_type": "stream",
     "text": [
      "0:\tlearn: 0.6286501\ttotal: 358ms\tremaining: 2m 58s\n",
      "1:\tlearn: 0.5774330\ttotal: 533ms\tremaining: 2m 12s\n",
      "2:\tlearn: 0.5335738\ttotal: 724ms\tremaining: 1m 59s\n",
      "3:\tlearn: 0.4976081\ttotal: 871ms\tremaining: 1m 48s\n",
      "4:\tlearn: 0.4660109\ttotal: 961ms\tremaining: 1m 35s\n",
      "5:\tlearn: 0.4397717\ttotal: 985ms\tremaining: 1m 21s\n",
      "6:\tlearn: 0.4134231\ttotal: 1.09s\tremaining: 1m 16s\n",
      "7:\tlearn: 0.3919124\ttotal: 1.27s\tremaining: 1m 18s\n",
      "8:\tlearn: 0.3761585\ttotal: 1.28s\tremaining: 1m 9s\n",
      "9:\tlearn: 0.3598835\ttotal: 1.37s\tremaining: 1m 7s\n",
      "10:\tlearn: 0.3447920\ttotal: 1.54s\tremaining: 1m 8s\n",
      "11:\tlearn: 0.3325154\ttotal: 1.63s\tremaining: 1m 6s\n",
      "12:\tlearn: 0.3212430\ttotal: 1.79s\tremaining: 1m 7s\n",
      "13:\tlearn: 0.3117255\ttotal: 1.92s\tremaining: 1m 6s\n",
      "14:\tlearn: 0.3048763\ttotal: 1.94s\tremaining: 1m 2s\n",
      "15:\tlearn: 0.2977193\ttotal: 1.96s\tremaining: 59.3s\n",
      "16:\tlearn: 0.2921028\ttotal: 2.01s\tremaining: 57.2s\n",
      "17:\tlearn: 0.2856237\ttotal: 2.18s\tremaining: 58.5s\n",
      "18:\tlearn: 0.2815560\ttotal: 2.2s\tremaining: 55.6s\n",
      "19:\tlearn: 0.2773764\ttotal: 2.26s\tremaining: 54.2s\n",
      "20:\tlearn: 0.2727100\ttotal: 2.44s\tremaining: 55.8s\n",
      "21:\tlearn: 0.2686616\ttotal: 2.63s\tremaining: 57.1s\n",
      "22:\tlearn: 0.2657947\ttotal: 2.73s\tremaining: 56.6s\n",
      "23:\tlearn: 0.2619074\ttotal: 2.91s\tremaining: 57.7s\n",
      "24:\tlearn: 0.2591900\ttotal: 3s\tremaining: 57s\n",
      "25:\tlearn: 0.2558644\ttotal: 3.18s\tremaining: 58s\n",
      "26:\tlearn: 0.2530343\ttotal: 3.32s\tremaining: 58.1s\n",
      "27:\tlearn: 0.2503806\ttotal: 3.48s\tremaining: 58.8s\n",
      "28:\tlearn: 0.2486314\ttotal: 3.66s\tremaining: 59.5s\n",
      "29:\tlearn: 0.2476509\ttotal: 3.7s\tremaining: 57.9s\n",
      "30:\tlearn: 0.2467944\ttotal: 3.72s\tremaining: 56.3s\n",
      "31:\tlearn: 0.2450591\ttotal: 3.89s\tremaining: 57s\n",
      "32:\tlearn: 0.2438707\ttotal: 4.03s\tremaining: 57.1s\n",
      "33:\tlearn: 0.2433011\ttotal: 4.07s\tremaining: 55.8s\n",
      "34:\tlearn: 0.2422150\ttotal: 4.27s\tremaining: 56.7s\n",
      "35:\tlearn: 0.2409026\ttotal: 4.44s\tremaining: 57.3s\n",
      "36:\tlearn: 0.2402033\ttotal: 4.49s\tremaining: 56.2s\n",
      "37:\tlearn: 0.2394472\ttotal: 4.67s\tremaining: 56.8s\n",
      "38:\tlearn: 0.2383287\ttotal: 4.85s\tremaining: 57.3s\n",
      "39:\tlearn: 0.2375952\ttotal: 5.03s\tremaining: 57.8s\n",
      "40:\tlearn: 0.2368368\ttotal: 5.2s\tremaining: 58.3s\n",
      "41:\tlearn: 0.2363565\ttotal: 5.39s\tremaining: 58.8s\n",
      "42:\tlearn: 0.2357414\ttotal: 5.59s\tremaining: 59.5s\n",
      "43:\tlearn: 0.2350444\ttotal: 5.77s\tremaining: 59.8s\n",
      "44:\tlearn: 0.2348298\ttotal: 5.81s\tremaining: 58.7s\n",
      "45:\tlearn: 0.2342824\ttotal: 5.97s\tremaining: 59s\n",
      "46:\tlearn: 0.2337064\ttotal: 6.14s\tremaining: 59.2s\n",
      "47:\tlearn: 0.2333255\ttotal: 6.34s\tremaining: 59.7s\n",
      "48:\tlearn: 0.2328322\ttotal: 6.54s\tremaining: 1m\n",
      "49:\tlearn: 0.2324161\ttotal: 6.63s\tremaining: 59.7s\n",
      "50:\tlearn: 0.2318912\ttotal: 6.84s\tremaining: 1m\n",
      "51:\tlearn: 0.2314092\ttotal: 7.04s\tremaining: 1m\n",
      "52:\tlearn: 0.2310674\ttotal: 7.25s\tremaining: 1m 1s\n",
      "53:\tlearn: 0.2307537\ttotal: 7.42s\tremaining: 1m 1s\n",
      "54:\tlearn: 0.2303941\ttotal: 7.62s\tremaining: 1m 1s\n",
      "55:\tlearn: 0.2299175\ttotal: 7.81s\tremaining: 1m 1s\n",
      "56:\tlearn: 0.2296073\ttotal: 8s\tremaining: 1m 2s\n",
      "57:\tlearn: 0.2293793\ttotal: 8.19s\tremaining: 1m 2s\n",
      "58:\tlearn: 0.2289856\ttotal: 8.39s\tremaining: 1m 2s\n",
      "59:\tlearn: 0.2286184\ttotal: 8.58s\tremaining: 1m 2s\n",
      "60:\tlearn: 0.2283093\ttotal: 8.78s\tremaining: 1m 3s\n",
      "61:\tlearn: 0.2279296\ttotal: 8.96s\tremaining: 1m 3s\n",
      "62:\tlearn: 0.2277555\ttotal: 9.16s\tremaining: 1m 3s\n",
      "63:\tlearn: 0.2273986\ttotal: 9.35s\tremaining: 1m 3s\n",
      "64:\tlearn: 0.2271102\ttotal: 9.54s\tremaining: 1m 3s\n",
      "65:\tlearn: 0.2269017\ttotal: 9.71s\tremaining: 1m 3s\n",
      "66:\tlearn: 0.2266040\ttotal: 9.9s\tremaining: 1m 3s\n",
      "67:\tlearn: 0.2263847\ttotal: 10.1s\tremaining: 1m 4s\n",
      "68:\tlearn: 0.2260961\ttotal: 10.3s\tremaining: 1m 4s\n",
      "69:\tlearn: 0.2259525\ttotal: 10.5s\tremaining: 1m 4s\n",
      "70:\tlearn: 0.2257266\ttotal: 10.6s\tremaining: 1m 4s\n",
      "71:\tlearn: 0.2255145\ttotal: 10.8s\tremaining: 1m 4s\n",
      "72:\tlearn: 0.2252388\ttotal: 11s\tremaining: 1m 4s\n",
      "73:\tlearn: 0.2249655\ttotal: 11.2s\tremaining: 1m 4s\n",
      "74:\tlearn: 0.2247935\ttotal: 11.4s\tremaining: 1m 4s\n",
      "75:\tlearn: 0.2246216\ttotal: 11.6s\tremaining: 1m 4s\n",
      "76:\tlearn: 0.2244227\ttotal: 11.7s\tremaining: 1m 4s\n",
      "77:\tlearn: 0.2242655\ttotal: 11.9s\tremaining: 1m 4s\n",
      "78:\tlearn: 0.2239685\ttotal: 12.1s\tremaining: 1m 4s\n",
      "79:\tlearn: 0.2236787\ttotal: 12.3s\tremaining: 1m 4s\n",
      "80:\tlearn: 0.2236259\ttotal: 12.3s\tremaining: 1m 3s\n",
      "81:\tlearn: 0.2235307\ttotal: 12.5s\tremaining: 1m 3s\n",
      "82:\tlearn: 0.2233314\ttotal: 12.7s\tremaining: 1m 3s\n",
      "83:\tlearn: 0.2232070\ttotal: 12.9s\tremaining: 1m 3s\n",
      "84:\tlearn: 0.2231091\ttotal: 13.1s\tremaining: 1m 4s\n",
      "85:\tlearn: 0.2228876\ttotal: 13.3s\tremaining: 1m 4s\n",
      "86:\tlearn: 0.2227583\ttotal: 13.5s\tremaining: 1m 4s\n",
      "87:\tlearn: 0.2225014\ttotal: 13.7s\tremaining: 1m 4s\n",
      "88:\tlearn: 0.2224170\ttotal: 13.9s\tremaining: 1m 4s\n",
      "89:\tlearn: 0.2222477\ttotal: 14.1s\tremaining: 1m 4s\n",
      "90:\tlearn: 0.2220515\ttotal: 14.3s\tremaining: 1m 4s\n",
      "91:\tlearn: 0.2217630\ttotal: 14.5s\tremaining: 1m 4s\n",
      "92:\tlearn: 0.2214941\ttotal: 14.7s\tremaining: 1m 4s\n",
      "93:\tlearn: 0.2213261\ttotal: 14.8s\tremaining: 1m 4s\n",
      "94:\tlearn: 0.2210726\ttotal: 15s\tremaining: 1m 4s\n",
      "95:\tlearn: 0.2208967\ttotal: 15.2s\tremaining: 1m 4s\n",
      "96:\tlearn: 0.2207285\ttotal: 15.4s\tremaining: 1m 3s\n",
      "97:\tlearn: 0.2205613\ttotal: 15.6s\tremaining: 1m 3s\n",
      "98:\tlearn: 0.2203676\ttotal: 15.8s\tremaining: 1m 3s\n",
      "99:\tlearn: 0.2201498\ttotal: 15.9s\tremaining: 1m 3s\n",
      "100:\tlearn: 0.2199574\ttotal: 16.1s\tremaining: 1m 3s\n",
      "101:\tlearn: 0.2197508\ttotal: 16.3s\tremaining: 1m 3s\n",
      "102:\tlearn: 0.2196275\ttotal: 16.5s\tremaining: 1m 3s\n",
      "103:\tlearn: 0.2194469\ttotal: 16.7s\tremaining: 1m 3s\n",
      "104:\tlearn: 0.2192108\ttotal: 16.9s\tremaining: 1m 3s\n",
      "105:\tlearn: 0.2190591\ttotal: 17s\tremaining: 1m 3s\n",
      "106:\tlearn: 0.2190311\ttotal: 17.1s\tremaining: 1m 2s\n",
      "107:\tlearn: 0.2189501\ttotal: 17.3s\tremaining: 1m 2s\n",
      "108:\tlearn: 0.2187947\ttotal: 17.5s\tremaining: 1m 2s\n",
      "109:\tlearn: 0.2186381\ttotal: 17.7s\tremaining: 1m 2s\n",
      "110:\tlearn: 0.2184703\ttotal: 17.8s\tremaining: 1m 2s\n",
      "111:\tlearn: 0.2183418\ttotal: 18s\tremaining: 1m 2s\n",
      "112:\tlearn: 0.2181913\ttotal: 18.2s\tremaining: 1m 2s\n",
      "113:\tlearn: 0.2180775\ttotal: 18.4s\tremaining: 1m 2s\n",
      "114:\tlearn: 0.2179932\ttotal: 18.6s\tremaining: 1m 2s\n",
      "115:\tlearn: 0.2177974\ttotal: 18.8s\tremaining: 1m 2s\n",
      "116:\tlearn: 0.2177185\ttotal: 18.9s\tremaining: 1m 1s\n",
      "117:\tlearn: 0.2175225\ttotal: 19.1s\tremaining: 1m 1s\n",
      "118:\tlearn: 0.2173465\ttotal: 19.3s\tremaining: 1m 1s\n",
      "119:\tlearn: 0.2172569\ttotal: 19.5s\tremaining: 1m 1s\n",
      "120:\tlearn: 0.2170963\ttotal: 19.7s\tremaining: 1m 1s\n",
      "121:\tlearn: 0.2168749\ttotal: 19.9s\tremaining: 1m 1s\n",
      "122:\tlearn: 0.2166778\ttotal: 20.1s\tremaining: 1m 1s\n",
      "123:\tlearn: 0.2165394\ttotal: 20.3s\tremaining: 1m 1s\n",
      "124:\tlearn: 0.2163277\ttotal: 20.5s\tremaining: 1m 1s\n",
      "125:\tlearn: 0.2161702\ttotal: 20.6s\tremaining: 1m 1s\n",
      "126:\tlearn: 0.2159859\ttotal: 20.8s\tremaining: 1m 1s\n",
      "127:\tlearn: 0.2156914\ttotal: 21s\tremaining: 1m 1s\n",
      "128:\tlearn: 0.2155537\ttotal: 21.2s\tremaining: 1m\n",
      "129:\tlearn: 0.2154632\ttotal: 21.4s\tremaining: 1m\n",
      "130:\tlearn: 0.2153779\ttotal: 21.6s\tremaining: 1m\n",
      "131:\tlearn: 0.2153085\ttotal: 21.8s\tremaining: 1m\n",
      "132:\tlearn: 0.2151426\ttotal: 22s\tremaining: 1m\n",
      "133:\tlearn: 0.2149683\ttotal: 22.1s\tremaining: 1m\n",
      "134:\tlearn: 0.2148250\ttotal: 22.3s\tremaining: 1m\n",
      "135:\tlearn: 0.2145612\ttotal: 22.5s\tremaining: 1m\n",
      "136:\tlearn: 0.2145576\ttotal: 22.6s\tremaining: 59.8s\n",
      "137:\tlearn: 0.2143997\ttotal: 22.8s\tremaining: 59.8s\n",
      "138:\tlearn: 0.2143385\ttotal: 23s\tremaining: 59.8s\n",
      "139:\tlearn: 0.2142424\ttotal: 23.2s\tremaining: 59.8s\n",
      "140:\tlearn: 0.2141194\ttotal: 23.4s\tremaining: 59.7s\n",
      "141:\tlearn: 0.2140068\ttotal: 23.6s\tremaining: 59.6s\n",
      "142:\tlearn: 0.2137313\ttotal: 23.8s\tremaining: 59.4s\n",
      "143:\tlearn: 0.2135488\ttotal: 24s\tremaining: 59.3s\n",
      "144:\tlearn: 0.2133944\ttotal: 24.2s\tremaining: 59.2s\n",
      "145:\tlearn: 0.2131942\ttotal: 24.4s\tremaining: 59.1s\n",
      "146:\tlearn: 0.2130926\ttotal: 24.6s\tremaining: 59s\n",
      "147:\tlearn: 0.2128464\ttotal: 24.8s\tremaining: 58.9s\n",
      "148:\tlearn: 0.2126843\ttotal: 25s\tremaining: 58.8s\n",
      "149:\tlearn: 0.2126504\ttotal: 25.1s\tremaining: 58.7s\n",
      "150:\tlearn: 0.2125253\ttotal: 25.3s\tremaining: 58.5s\n",
      "151:\tlearn: 0.2123812\ttotal: 25.5s\tremaining: 58.4s\n",
      "152:\tlearn: 0.2120665\ttotal: 25.7s\tremaining: 58.3s\n",
      "153:\tlearn: 0.2118520\ttotal: 25.9s\tremaining: 58.1s\n",
      "154:\tlearn: 0.2117924\ttotal: 26.1s\tremaining: 58s\n",
      "155:\tlearn: 0.2116947\ttotal: 26.2s\tremaining: 57.9s\n",
      "156:\tlearn: 0.2115288\ttotal: 26.4s\tremaining: 57.7s\n",
      "157:\tlearn: 0.2114039\ttotal: 26.6s\tremaining: 57.6s\n",
      "158:\tlearn: 0.2113297\ttotal: 26.8s\tremaining: 57.5s\n",
      "159:\tlearn: 0.2112396\ttotal: 27s\tremaining: 57.4s\n",
      "160:\tlearn: 0.2109583\ttotal: 27.2s\tremaining: 57.3s\n",
      "161:\tlearn: 0.2108366\ttotal: 27.4s\tremaining: 57.1s\n"
     ]
    },
    {
     "name": "stdout",
     "output_type": "stream",
     "text": [
      "162:\tlearn: 0.2106805\ttotal: 27.6s\tremaining: 57s\n",
      "163:\tlearn: 0.2105554\ttotal: 27.8s\tremaining: 56.9s\n",
      "164:\tlearn: 0.2104291\ttotal: 27.9s\tremaining: 56.7s\n",
      "165:\tlearn: 0.2103514\ttotal: 28.1s\tremaining: 56.6s\n",
      "166:\tlearn: 0.2101221\ttotal: 28.3s\tremaining: 56.4s\n",
      "167:\tlearn: 0.2099471\ttotal: 28.5s\tremaining: 56.3s\n",
      "168:\tlearn: 0.2098586\ttotal: 28.7s\tremaining: 56.2s\n",
      "169:\tlearn: 0.2096588\ttotal: 28.9s\tremaining: 56s\n",
      "170:\tlearn: 0.2095839\ttotal: 29.1s\tremaining: 55.9s\n",
      "171:\tlearn: 0.2095604\ttotal: 29.3s\tremaining: 55.8s\n",
      "172:\tlearn: 0.2094432\ttotal: 29.5s\tremaining: 55.7s\n",
      "173:\tlearn: 0.2093563\ttotal: 29.7s\tremaining: 55.6s\n",
      "174:\tlearn: 0.2092831\ttotal: 29.9s\tremaining: 55.5s\n",
      "175:\tlearn: 0.2092828\ttotal: 29.9s\tremaining: 55s\n",
      "176:\tlearn: 0.2091872\ttotal: 30.1s\tremaining: 54.8s\n",
      "177:\tlearn: 0.2090989\ttotal: 30.2s\tremaining: 54.7s\n",
      "178:\tlearn: 0.2089893\ttotal: 30.4s\tremaining: 54.6s\n",
      "179:\tlearn: 0.2088249\ttotal: 30.6s\tremaining: 54.4s\n",
      "180:\tlearn: 0.2087760\ttotal: 30.8s\tremaining: 54.3s\n",
      "181:\tlearn: 0.2087107\ttotal: 31s\tremaining: 54.2s\n",
      "182:\tlearn: 0.2085851\ttotal: 31.2s\tremaining: 54.1s\n",
      "183:\tlearn: 0.2083812\ttotal: 31.4s\tremaining: 53.9s\n",
      "184:\tlearn: 0.2082777\ttotal: 31.6s\tremaining: 53.8s\n",
      "185:\tlearn: 0.2080796\ttotal: 31.8s\tremaining: 53.6s\n",
      "186:\tlearn: 0.2080785\ttotal: 31.8s\tremaining: 53.3s\n",
      "187:\tlearn: 0.2078434\ttotal: 32s\tremaining: 53.2s\n",
      "188:\tlearn: 0.2076072\ttotal: 32.2s\tremaining: 53s\n",
      "189:\tlearn: 0.2075054\ttotal: 32.4s\tremaining: 52.9s\n",
      "190:\tlearn: 0.2074903\ttotal: 32.5s\tremaining: 52.5s\n",
      "191:\tlearn: 0.2072474\ttotal: 32.7s\tremaining: 52.4s\n",
      "192:\tlearn: 0.2071449\ttotal: 32.9s\tremaining: 52.3s\n",
      "193:\tlearn: 0.2070368\ttotal: 33.1s\tremaining: 52.2s\n",
      "194:\tlearn: 0.2069905\ttotal: 33.3s\tremaining: 52s\n",
      "195:\tlearn: 0.2069873\ttotal: 33.3s\tremaining: 51.6s\n",
      "196:\tlearn: 0.2067396\ttotal: 33.5s\tremaining: 51.5s\n",
      "197:\tlearn: 0.2064762\ttotal: 33.7s\tremaining: 51.4s\n",
      "198:\tlearn: 0.2062668\ttotal: 33.9s\tremaining: 51.2s\n",
      "199:\tlearn: 0.2061555\ttotal: 34.1s\tremaining: 51.1s\n",
      "200:\tlearn: 0.2059230\ttotal: 34.2s\tremaining: 50.9s\n",
      "201:\tlearn: 0.2058093\ttotal: 34.4s\tremaining: 50.8s\n",
      "202:\tlearn: 0.2057118\ttotal: 34.6s\tremaining: 50.6s\n",
      "203:\tlearn: 0.2055087\ttotal: 34.8s\tremaining: 50.5s\n",
      "204:\tlearn: 0.2053030\ttotal: 35s\tremaining: 50.4s\n",
      "205:\tlearn: 0.2050887\ttotal: 35.2s\tremaining: 50.2s\n",
      "206:\tlearn: 0.2049739\ttotal: 35.4s\tremaining: 50.1s\n",
      "207:\tlearn: 0.2049082\ttotal: 35.6s\tremaining: 49.9s\n",
      "208:\tlearn: 0.2047782\ttotal: 35.7s\tremaining: 49.8s\n",
      "209:\tlearn: 0.2046555\ttotal: 35.9s\tremaining: 49.6s\n",
      "210:\tlearn: 0.2045116\ttotal: 36.1s\tremaining: 49.5s\n",
      "211:\tlearn: 0.2044289\ttotal: 36.3s\tremaining: 49.3s\n",
      "212:\tlearn: 0.2042787\ttotal: 36.5s\tremaining: 49.2s\n",
      "213:\tlearn: 0.2041649\ttotal: 36.7s\tremaining: 49.1s\n",
      "214:\tlearn: 0.2040045\ttotal: 36.9s\tremaining: 48.9s\n",
      "215:\tlearn: 0.2038518\ttotal: 37.1s\tremaining: 48.8s\n",
      "216:\tlearn: 0.2036989\ttotal: 37.3s\tremaining: 48.7s\n",
      "217:\tlearn: 0.2036029\ttotal: 37.5s\tremaining: 48.5s\n",
      "218:\tlearn: 0.2035364\ttotal: 37.7s\tremaining: 48.4s\n",
      "219:\tlearn: 0.2034471\ttotal: 37.9s\tremaining: 48.3s\n",
      "220:\tlearn: 0.2033858\ttotal: 38.1s\tremaining: 48.1s\n",
      "221:\tlearn: 0.2032755\ttotal: 38.3s\tremaining: 48s\n",
      "222:\tlearn: 0.2031702\ttotal: 38.5s\tremaining: 47.9s\n",
      "223:\tlearn: 0.2030359\ttotal: 38.8s\tremaining: 47.8s\n",
      "224:\tlearn: 0.2027529\ttotal: 38.9s\tremaining: 47.6s\n",
      "225:\tlearn: 0.2025698\ttotal: 39.2s\tremaining: 47.5s\n",
      "226:\tlearn: 0.2025482\ttotal: 39.3s\tremaining: 47.3s\n",
      "227:\tlearn: 0.2025084\ttotal: 39.5s\tremaining: 47.2s\n",
      "228:\tlearn: 0.2023285\ttotal: 39.7s\tremaining: 47s\n",
      "229:\tlearn: 0.2020545\ttotal: 39.9s\tremaining: 46.8s\n",
      "230:\tlearn: 0.2019467\ttotal: 40.1s\tremaining: 46.7s\n",
      "231:\tlearn: 0.2017830\ttotal: 40.3s\tremaining: 46.5s\n",
      "232:\tlearn: 0.2015657\ttotal: 40.4s\tremaining: 46.3s\n",
      "233:\tlearn: 0.2014095\ttotal: 40.6s\tremaining: 46.2s\n",
      "234:\tlearn: 0.2013022\ttotal: 40.8s\tremaining: 46s\n",
      "235:\tlearn: 0.2010785\ttotal: 41s\tremaining: 45.8s\n",
      "236:\tlearn: 0.2010170\ttotal: 41.2s\tremaining: 45.7s\n",
      "237:\tlearn: 0.2009410\ttotal: 41.3s\tremaining: 45.5s\n",
      "238:\tlearn: 0.2008328\ttotal: 41.5s\tremaining: 45.3s\n",
      "239:\tlearn: 0.2006667\ttotal: 41.7s\tremaining: 45.2s\n",
      "240:\tlearn: 0.2005707\ttotal: 41.9s\tremaining: 45s\n",
      "241:\tlearn: 0.2003888\ttotal: 42.1s\tremaining: 44.9s\n",
      "242:\tlearn: 0.2001984\ttotal: 42.3s\tremaining: 44.7s\n",
      "243:\tlearn: 0.2000203\ttotal: 42.4s\tremaining: 44.5s\n",
      "244:\tlearn: 0.1999009\ttotal: 42.6s\tremaining: 44.3s\n",
      "245:\tlearn: 0.1996407\ttotal: 42.8s\tremaining: 44.2s\n",
      "246:\tlearn: 0.1995950\ttotal: 43s\tremaining: 44s\n",
      "247:\tlearn: 0.1994802\ttotal: 43.1s\tremaining: 43.8s\n",
      "248:\tlearn: 0.1993705\ttotal: 43.3s\tremaining: 43.7s\n",
      "249:\tlearn: 0.1991325\ttotal: 43.5s\tremaining: 43.5s\n",
      "250:\tlearn: 0.1989778\ttotal: 43.7s\tremaining: 43.4s\n",
      "251:\tlearn: 0.1987969\ttotal: 43.9s\tremaining: 43.2s\n",
      "252:\tlearn: 0.1984942\ttotal: 44.1s\tremaining: 43s\n",
      "253:\tlearn: 0.1984064\ttotal: 44.3s\tremaining: 42.9s\n",
      "254:\tlearn: 0.1981933\ttotal: 44.5s\tremaining: 42.7s\n",
      "255:\tlearn: 0.1980665\ttotal: 44.7s\tremaining: 42.6s\n",
      "256:\tlearn: 0.1978473\ttotal: 44.8s\tremaining: 42.4s\n",
      "257:\tlearn: 0.1976852\ttotal: 45s\tremaining: 42.2s\n",
      "258:\tlearn: 0.1975684\ttotal: 45.2s\tremaining: 42.1s\n",
      "259:\tlearn: 0.1974873\ttotal: 45.4s\tremaining: 41.9s\n",
      "260:\tlearn: 0.1973435\ttotal: 45.6s\tremaining: 41.7s\n",
      "261:\tlearn: 0.1970961\ttotal: 45.8s\tremaining: 41.6s\n",
      "262:\tlearn: 0.1970410\ttotal: 46s\tremaining: 41.4s\n",
      "263:\tlearn: 0.1969289\ttotal: 46.1s\tremaining: 41.2s\n",
      "264:\tlearn: 0.1967584\ttotal: 46.3s\tremaining: 41.1s\n",
      "265:\tlearn: 0.1965609\ttotal: 46.5s\tremaining: 40.9s\n",
      "266:\tlearn: 0.1964389\ttotal: 46.7s\tremaining: 40.8s\n",
      "267:\tlearn: 0.1962084\ttotal: 46.9s\tremaining: 40.6s\n",
      "268:\tlearn: 0.1960170\ttotal: 47.1s\tremaining: 40.5s\n",
      "269:\tlearn: 0.1957958\ttotal: 47.3s\tremaining: 40.3s\n",
      "270:\tlearn: 0.1956599\ttotal: 47.5s\tremaining: 40.1s\n",
      "271:\tlearn: 0.1954479\ttotal: 47.7s\tremaining: 39.9s\n",
      "272:\tlearn: 0.1952532\ttotal: 47.8s\tremaining: 39.8s\n",
      "273:\tlearn: 0.1951264\ttotal: 48s\tremaining: 39.6s\n",
      "274:\tlearn: 0.1949082\ttotal: 48.2s\tremaining: 39.5s\n",
      "275:\tlearn: 0.1947213\ttotal: 48.4s\tremaining: 39.3s\n",
      "276:\tlearn: 0.1945142\ttotal: 48.6s\tremaining: 39.2s\n",
      "277:\tlearn: 0.1944237\ttotal: 48.8s\tremaining: 39s\n",
      "278:\tlearn: 0.1942903\ttotal: 49s\tremaining: 38.8s\n",
      "279:\tlearn: 0.1941111\ttotal: 49.2s\tremaining: 38.7s\n",
      "280:\tlearn: 0.1939276\ttotal: 49.4s\tremaining: 38.5s\n",
      "281:\tlearn: 0.1937015\ttotal: 49.6s\tremaining: 38.3s\n",
      "282:\tlearn: 0.1935941\ttotal: 49.8s\tremaining: 38.2s\n",
      "283:\tlearn: 0.1934272\ttotal: 50s\tremaining: 38s\n",
      "284:\tlearn: 0.1932636\ttotal: 50.1s\tremaining: 37.8s\n",
      "285:\tlearn: 0.1931225\ttotal: 50.3s\tremaining: 37.7s\n",
      "286:\tlearn: 0.1929746\ttotal: 50.5s\tremaining: 37.5s\n",
      "287:\tlearn: 0.1927741\ttotal: 50.7s\tremaining: 37.3s\n",
      "288:\tlearn: 0.1924844\ttotal: 50.9s\tremaining: 37.2s\n",
      "289:\tlearn: 0.1923661\ttotal: 51.1s\tremaining: 37s\n",
      "290:\tlearn: 0.1922616\ttotal: 51.3s\tremaining: 36.8s\n",
      "291:\tlearn: 0.1921059\ttotal: 51.5s\tremaining: 36.7s\n",
      "292:\tlearn: 0.1919313\ttotal: 51.7s\tremaining: 36.5s\n",
      "293:\tlearn: 0.1917428\ttotal: 51.9s\tremaining: 36.3s\n",
      "294:\tlearn: 0.1916854\ttotal: 52.1s\tremaining: 36.2s\n",
      "295:\tlearn: 0.1916512\ttotal: 52.3s\tremaining: 36s\n",
      "296:\tlearn: 0.1913989\ttotal: 52.5s\tremaining: 35.9s\n",
      "297:\tlearn: 0.1912493\ttotal: 52.6s\tremaining: 35.7s\n",
      "298:\tlearn: 0.1911797\ttotal: 52.8s\tremaining: 35.5s\n",
      "299:\tlearn: 0.1910049\ttotal: 53s\tremaining: 35.4s\n",
      "300:\tlearn: 0.1908885\ttotal: 53.2s\tremaining: 35.2s\n",
      "301:\tlearn: 0.1906139\ttotal: 53.4s\tremaining: 35s\n",
      "302:\tlearn: 0.1905137\ttotal: 53.6s\tremaining: 34.8s\n",
      "303:\tlearn: 0.1904217\ttotal: 53.8s\tremaining: 34.7s\n",
      "304:\tlearn: 0.1902663\ttotal: 53.9s\tremaining: 34.5s\n",
      "305:\tlearn: 0.1900823\ttotal: 54.1s\tremaining: 34.3s\n",
      "306:\tlearn: 0.1899249\ttotal: 54.3s\tremaining: 34.1s\n",
      "307:\tlearn: 0.1898455\ttotal: 54.5s\tremaining: 34s\n",
      "308:\tlearn: 0.1897851\ttotal: 54.7s\tremaining: 33.8s\n",
      "309:\tlearn: 0.1895272\ttotal: 54.9s\tremaining: 33.7s\n",
      "310:\tlearn: 0.1893500\ttotal: 55.1s\tremaining: 33.5s\n",
      "311:\tlearn: 0.1890856\ttotal: 55.3s\tremaining: 33.3s\n",
      "312:\tlearn: 0.1889295\ttotal: 55.4s\tremaining: 33.1s\n",
      "313:\tlearn: 0.1887450\ttotal: 55.6s\tremaining: 32.9s\n",
      "314:\tlearn: 0.1886746\ttotal: 55.8s\tremaining: 32.8s\n",
      "315:\tlearn: 0.1885759\ttotal: 56s\tremaining: 32.6s\n",
      "316:\tlearn: 0.1884405\ttotal: 56.2s\tremaining: 32.4s\n",
      "317:\tlearn: 0.1881644\ttotal: 56.4s\tremaining: 32.3s\n",
      "318:\tlearn: 0.1880616\ttotal: 56.5s\tremaining: 32.1s\n",
      "319:\tlearn: 0.1879895\ttotal: 56.7s\tremaining: 31.9s\n",
      "320:\tlearn: 0.1879256\ttotal: 56.9s\tremaining: 31.7s\n"
     ]
    },
    {
     "name": "stdout",
     "output_type": "stream",
     "text": [
      "321:\tlearn: 0.1878301\ttotal: 57.1s\tremaining: 31.6s\n",
      "322:\tlearn: 0.1877616\ttotal: 57.3s\tremaining: 31.4s\n",
      "323:\tlearn: 0.1875198\ttotal: 57.5s\tremaining: 31.3s\n",
      "324:\tlearn: 0.1873543\ttotal: 57.7s\tremaining: 31.1s\n",
      "325:\tlearn: 0.1871554\ttotal: 57.9s\tremaining: 30.9s\n",
      "326:\tlearn: 0.1871063\ttotal: 58.1s\tremaining: 30.8s\n",
      "327:\tlearn: 0.1869133\ttotal: 58.3s\tremaining: 30.6s\n",
      "328:\tlearn: 0.1868460\ttotal: 58.5s\tremaining: 30.4s\n",
      "329:\tlearn: 0.1867275\ttotal: 58.7s\tremaining: 30.3s\n",
      "330:\tlearn: 0.1865882\ttotal: 59s\tremaining: 30.1s\n",
      "331:\tlearn: 0.1863870\ttotal: 59.2s\tremaining: 30s\n",
      "332:\tlearn: 0.1861793\ttotal: 59.4s\tremaining: 29.8s\n",
      "333:\tlearn: 0.1860188\ttotal: 59.6s\tremaining: 29.6s\n",
      "334:\tlearn: 0.1858473\ttotal: 59.8s\tremaining: 29.4s\n",
      "335:\tlearn: 0.1857341\ttotal: 60s\tremaining: 29.3s\n",
      "336:\tlearn: 0.1856624\ttotal: 1m\tremaining: 29.1s\n",
      "337:\tlearn: 0.1854729\ttotal: 1m\tremaining: 28.9s\n",
      "338:\tlearn: 0.1853416\ttotal: 1m\tremaining: 28.7s\n",
      "339:\tlearn: 0.1851534\ttotal: 1m\tremaining: 28.6s\n",
      "340:\tlearn: 0.1850659\ttotal: 1m\tremaining: 28.4s\n",
      "341:\tlearn: 0.1848401\ttotal: 1m 1s\tremaining: 28.2s\n",
      "342:\tlearn: 0.1847784\ttotal: 1m 1s\tremaining: 28.1s\n",
      "343:\tlearn: 0.1847222\ttotal: 1m 1s\tremaining: 27.9s\n",
      "344:\tlearn: 0.1846517\ttotal: 1m 1s\tremaining: 27.7s\n",
      "345:\tlearn: 0.1845634\ttotal: 1m 1s\tremaining: 27.6s\n",
      "346:\tlearn: 0.1844516\ttotal: 1m 2s\tremaining: 27.4s\n",
      "347:\tlearn: 0.1842855\ttotal: 1m 2s\tremaining: 27.2s\n",
      "348:\tlearn: 0.1841466\ttotal: 1m 2s\tremaining: 27s\n",
      "349:\tlearn: 0.1839455\ttotal: 1m 2s\tremaining: 26.9s\n",
      "350:\tlearn: 0.1837727\ttotal: 1m 2s\tremaining: 26.7s\n",
      "351:\tlearn: 0.1836988\ttotal: 1m 3s\tremaining: 26.5s\n",
      "352:\tlearn: 0.1834988\ttotal: 1m 3s\tremaining: 26.4s\n",
      "353:\tlearn: 0.1834652\ttotal: 1m 3s\tremaining: 26.2s\n",
      "354:\tlearn: 0.1833558\ttotal: 1m 3s\tremaining: 26s\n",
      "355:\tlearn: 0.1832695\ttotal: 1m 3s\tremaining: 25.8s\n",
      "356:\tlearn: 0.1831332\ttotal: 1m 4s\tremaining: 25.7s\n",
      "357:\tlearn: 0.1829217\ttotal: 1m 4s\tremaining: 25.5s\n",
      "358:\tlearn: 0.1828789\ttotal: 1m 4s\tremaining: 25.4s\n",
      "359:\tlearn: 0.1826574\ttotal: 1m 4s\tremaining: 25.2s\n",
      "360:\tlearn: 0.1825602\ttotal: 1m 4s\tremaining: 25s\n",
      "361:\tlearn: 0.1824061\ttotal: 1m 5s\tremaining: 24.8s\n",
      "362:\tlearn: 0.1822551\ttotal: 1m 5s\tremaining: 24.7s\n",
      "363:\tlearn: 0.1821466\ttotal: 1m 5s\tremaining: 24.5s\n",
      "364:\tlearn: 0.1820711\ttotal: 1m 5s\tremaining: 24.3s\n",
      "365:\tlearn: 0.1819108\ttotal: 1m 5s\tremaining: 24.2s\n",
      "366:\tlearn: 0.1818065\ttotal: 1m 6s\tremaining: 24s\n",
      "367:\tlearn: 0.1816020\ttotal: 1m 6s\tremaining: 23.8s\n",
      "368:\tlearn: 0.1815132\ttotal: 1m 6s\tremaining: 23.6s\n",
      "369:\tlearn: 0.1813934\ttotal: 1m 6s\tremaining: 23.5s\n",
      "370:\tlearn: 0.1813274\ttotal: 1m 6s\tremaining: 23.3s\n",
      "371:\tlearn: 0.1812178\ttotal: 1m 7s\tremaining: 23.1s\n",
      "372:\tlearn: 0.1809705\ttotal: 1m 7s\tremaining: 22.9s\n",
      "373:\tlearn: 0.1808713\ttotal: 1m 7s\tremaining: 22.8s\n",
      "374:\tlearn: 0.1807657\ttotal: 1m 7s\tremaining: 22.6s\n",
      "375:\tlearn: 0.1807368\ttotal: 1m 8s\tremaining: 22.4s\n",
      "376:\tlearn: 0.1806213\ttotal: 1m 8s\tremaining: 22.3s\n",
      "377:\tlearn: 0.1804982\ttotal: 1m 8s\tremaining: 22.1s\n",
      "378:\tlearn: 0.1804293\ttotal: 1m 8s\tremaining: 21.9s\n",
      "379:\tlearn: 0.1803605\ttotal: 1m 8s\tremaining: 21.7s\n",
      "380:\tlearn: 0.1801439\ttotal: 1m 9s\tremaining: 21.6s\n",
      "381:\tlearn: 0.1801102\ttotal: 1m 9s\tremaining: 21.4s\n",
      "382:\tlearn: 0.1800157\ttotal: 1m 9s\tremaining: 21.2s\n",
      "383:\tlearn: 0.1798855\ttotal: 1m 9s\tremaining: 21s\n",
      "384:\tlearn: 0.1797383\ttotal: 1m 9s\tremaining: 20.9s\n",
      "385:\tlearn: 0.1796697\ttotal: 1m 10s\tremaining: 20.7s\n",
      "386:\tlearn: 0.1795692\ttotal: 1m 10s\tremaining: 20.5s\n",
      "387:\tlearn: 0.1793570\ttotal: 1m 10s\tremaining: 20.3s\n",
      "388:\tlearn: 0.1792659\ttotal: 1m 10s\tremaining: 20.1s\n",
      "389:\tlearn: 0.1792135\ttotal: 1m 10s\tremaining: 20s\n",
      "390:\tlearn: 0.1790981\ttotal: 1m 11s\tremaining: 19.8s\n",
      "391:\tlearn: 0.1789172\ttotal: 1m 11s\tremaining: 19.6s\n",
      "392:\tlearn: 0.1786437\ttotal: 1m 11s\tremaining: 19.5s\n",
      "393:\tlearn: 0.1785446\ttotal: 1m 11s\tremaining: 19.3s\n",
      "394:\tlearn: 0.1784369\ttotal: 1m 11s\tremaining: 19.1s\n",
      "395:\tlearn: 0.1783590\ttotal: 1m 12s\tremaining: 18.9s\n",
      "396:\tlearn: 0.1782012\ttotal: 1m 12s\tremaining: 18.8s\n",
      "397:\tlearn: 0.1780920\ttotal: 1m 12s\tremaining: 18.6s\n",
      "398:\tlearn: 0.1779257\ttotal: 1m 12s\tremaining: 18.4s\n",
      "399:\tlearn: 0.1778785\ttotal: 1m 12s\tremaining: 18.2s\n",
      "400:\tlearn: 0.1778480\ttotal: 1m 13s\tremaining: 18.1s\n",
      "401:\tlearn: 0.1777301\ttotal: 1m 13s\tremaining: 17.9s\n",
      "402:\tlearn: 0.1775362\ttotal: 1m 13s\tremaining: 17.7s\n",
      "403:\tlearn: 0.1774192\ttotal: 1m 13s\tremaining: 17.5s\n",
      "404:\tlearn: 0.1773322\ttotal: 1m 13s\tremaining: 17.3s\n",
      "405:\tlearn: 0.1772073\ttotal: 1m 14s\tremaining: 17.2s\n",
      "406:\tlearn: 0.1770645\ttotal: 1m 14s\tremaining: 17s\n",
      "407:\tlearn: 0.1769973\ttotal: 1m 14s\tremaining: 16.8s\n",
      "408:\tlearn: 0.1769025\ttotal: 1m 14s\tremaining: 16.6s\n",
      "409:\tlearn: 0.1767517\ttotal: 1m 14s\tremaining: 16.4s\n",
      "410:\tlearn: 0.1765502\ttotal: 1m 15s\tremaining: 16.3s\n",
      "411:\tlearn: 0.1764582\ttotal: 1m 15s\tremaining: 16.1s\n",
      "412:\tlearn: 0.1764094\ttotal: 1m 15s\tremaining: 15.9s\n",
      "413:\tlearn: 0.1763445\ttotal: 1m 15s\tremaining: 15.7s\n",
      "414:\tlearn: 0.1762734\ttotal: 1m 15s\tremaining: 15.5s\n",
      "415:\tlearn: 0.1761540\ttotal: 1m 16s\tremaining: 15.4s\n",
      "416:\tlearn: 0.1760755\ttotal: 1m 16s\tremaining: 15.2s\n",
      "417:\tlearn: 0.1759610\ttotal: 1m 16s\tremaining: 15s\n",
      "418:\tlearn: 0.1758682\ttotal: 1m 16s\tremaining: 14.8s\n",
      "419:\tlearn: 0.1757124\ttotal: 1m 16s\tremaining: 14.6s\n",
      "420:\tlearn: 0.1755875\ttotal: 1m 17s\tremaining: 14.5s\n",
      "421:\tlearn: 0.1755360\ttotal: 1m 17s\tremaining: 14.3s\n",
      "422:\tlearn: 0.1753903\ttotal: 1m 17s\tremaining: 14.1s\n",
      "423:\tlearn: 0.1752738\ttotal: 1m 17s\tremaining: 13.9s\n",
      "424:\tlearn: 0.1751622\ttotal: 1m 17s\tremaining: 13.7s\n",
      "425:\tlearn: 0.1750784\ttotal: 1m 18s\tremaining: 13.6s\n",
      "426:\tlearn: 0.1749839\ttotal: 1m 18s\tremaining: 13.4s\n",
      "427:\tlearn: 0.1748786\ttotal: 1m 18s\tremaining: 13.2s\n",
      "428:\tlearn: 0.1748242\ttotal: 1m 18s\tremaining: 13s\n",
      "429:\tlearn: 0.1747659\ttotal: 1m 18s\tremaining: 12.8s\n",
      "430:\tlearn: 0.1746789\ttotal: 1m 19s\tremaining: 12.7s\n",
      "431:\tlearn: 0.1746128\ttotal: 1m 19s\tremaining: 12.5s\n",
      "432:\tlearn: 0.1745449\ttotal: 1m 19s\tremaining: 12.3s\n",
      "433:\tlearn: 0.1744377\ttotal: 1m 19s\tremaining: 12.1s\n",
      "434:\tlearn: 0.1743082\ttotal: 1m 19s\tremaining: 11.9s\n",
      "435:\tlearn: 0.1741711\ttotal: 1m 20s\tremaining: 11.7s\n",
      "436:\tlearn: 0.1740334\ttotal: 1m 20s\tremaining: 11.6s\n",
      "437:\tlearn: 0.1739543\ttotal: 1m 20s\tremaining: 11.4s\n",
      "438:\tlearn: 0.1738251\ttotal: 1m 20s\tremaining: 11.2s\n",
      "439:\tlearn: 0.1736016\ttotal: 1m 20s\tremaining: 11s\n",
      "440:\tlearn: 0.1735172\ttotal: 1m 20s\tremaining: 10.8s\n",
      "441:\tlearn: 0.1734283\ttotal: 1m 21s\tremaining: 10.7s\n",
      "442:\tlearn: 0.1732896\ttotal: 1m 21s\tremaining: 10.5s\n",
      "443:\tlearn: 0.1731810\ttotal: 1m 21s\tremaining: 10.3s\n",
      "444:\tlearn: 0.1730785\ttotal: 1m 21s\tremaining: 10.1s\n",
      "445:\tlearn: 0.1729861\ttotal: 1m 21s\tremaining: 9.92s\n",
      "446:\tlearn: 0.1728218\ttotal: 1m 22s\tremaining: 9.74s\n",
      "447:\tlearn: 0.1727021\ttotal: 1m 22s\tremaining: 9.56s\n",
      "448:\tlearn: 0.1726301\ttotal: 1m 22s\tremaining: 9.38s\n",
      "449:\tlearn: 0.1725709\ttotal: 1m 22s\tremaining: 9.2s\n",
      "450:\tlearn: 0.1724748\ttotal: 1m 22s\tremaining: 9.01s\n",
      "451:\tlearn: 0.1723683\ttotal: 1m 23s\tremaining: 8.83s\n",
      "452:\tlearn: 0.1722899\ttotal: 1m 23s\tremaining: 8.65s\n",
      "453:\tlearn: 0.1722060\ttotal: 1m 23s\tremaining: 8.47s\n",
      "454:\tlearn: 0.1721035\ttotal: 1m 23s\tremaining: 8.28s\n",
      "455:\tlearn: 0.1720014\ttotal: 1m 23s\tremaining: 8.1s\n",
      "456:\tlearn: 0.1719010\ttotal: 1m 24s\tremaining: 7.92s\n",
      "457:\tlearn: 0.1716917\ttotal: 1m 24s\tremaining: 7.73s\n",
      "458:\tlearn: 0.1715683\ttotal: 1m 24s\tremaining: 7.55s\n",
      "459:\tlearn: 0.1714799\ttotal: 1m 24s\tremaining: 7.37s\n",
      "460:\tlearn: 0.1714161\ttotal: 1m 24s\tremaining: 7.18s\n",
      "461:\tlearn: 0.1711901\ttotal: 1m 25s\tremaining: 7s\n",
      "462:\tlearn: 0.1710929\ttotal: 1m 25s\tremaining: 6.82s\n",
      "463:\tlearn: 0.1709783\ttotal: 1m 25s\tremaining: 6.63s\n",
      "464:\tlearn: 0.1708769\ttotal: 1m 25s\tremaining: 6.45s\n",
      "465:\tlearn: 0.1706884\ttotal: 1m 25s\tremaining: 6.27s\n",
      "466:\tlearn: 0.1705799\ttotal: 1m 26s\tremaining: 6.08s\n",
      "467:\tlearn: 0.1704387\ttotal: 1m 26s\tremaining: 5.9s\n",
      "468:\tlearn: 0.1703271\ttotal: 1m 26s\tremaining: 5.72s\n",
      "469:\tlearn: 0.1703023\ttotal: 1m 26s\tremaining: 5.53s\n",
      "470:\tlearn: 0.1702342\ttotal: 1m 26s\tremaining: 5.35s\n",
      "471:\tlearn: 0.1701279\ttotal: 1m 27s\tremaining: 5.17s\n",
      "472:\tlearn: 0.1700142\ttotal: 1m 27s\tremaining: 4.98s\n",
      "473:\tlearn: 0.1698755\ttotal: 1m 27s\tremaining: 4.8s\n",
      "474:\tlearn: 0.1696389\ttotal: 1m 27s\tremaining: 4.62s\n",
      "475:\tlearn: 0.1694925\ttotal: 1m 27s\tremaining: 4.43s\n",
      "476:\tlearn: 0.1693777\ttotal: 1m 28s\tremaining: 4.25s\n",
      "477:\tlearn: 0.1693018\ttotal: 1m 28s\tremaining: 4.06s\n"
     ]
    },
    {
     "name": "stdout",
     "output_type": "stream",
     "text": [
      "478:\tlearn: 0.1690822\ttotal: 1m 28s\tremaining: 3.88s\n",
      "479:\tlearn: 0.1690248\ttotal: 1m 28s\tremaining: 3.69s\n",
      "480:\tlearn: 0.1689253\ttotal: 1m 28s\tremaining: 3.51s\n",
      "481:\tlearn: 0.1687784\ttotal: 1m 28s\tremaining: 3.32s\n",
      "482:\tlearn: 0.1686252\ttotal: 1m 29s\tremaining: 3.14s\n",
      "483:\tlearn: 0.1685603\ttotal: 1m 29s\tremaining: 2.95s\n",
      "484:\tlearn: 0.1684474\ttotal: 1m 29s\tremaining: 2.77s\n",
      "485:\tlearn: 0.1682823\ttotal: 1m 29s\tremaining: 2.59s\n",
      "486:\tlearn: 0.1680741\ttotal: 1m 29s\tremaining: 2.4s\n",
      "487:\tlearn: 0.1679022\ttotal: 1m 30s\tremaining: 2.22s\n",
      "488:\tlearn: 0.1678162\ttotal: 1m 30s\tremaining: 2.03s\n",
      "489:\tlearn: 0.1677596\ttotal: 1m 30s\tremaining: 1.85s\n",
      "490:\tlearn: 0.1676731\ttotal: 1m 30s\tremaining: 1.66s\n",
      "491:\tlearn: 0.1676013\ttotal: 1m 30s\tremaining: 1.48s\n",
      "492:\tlearn: 0.1674951\ttotal: 1m 31s\tremaining: 1.29s\n",
      "493:\tlearn: 0.1673444\ttotal: 1m 31s\tremaining: 1.11s\n",
      "494:\tlearn: 0.1672894\ttotal: 1m 31s\tremaining: 924ms\n",
      "495:\tlearn: 0.1671547\ttotal: 1m 31s\tremaining: 740ms\n",
      "496:\tlearn: 0.1670024\ttotal: 1m 31s\tremaining: 555ms\n",
      "497:\tlearn: 0.1668304\ttotal: 1m 32s\tremaining: 370ms\n",
      "498:\tlearn: 0.1666943\ttotal: 1m 32s\tremaining: 185ms\n",
      "499:\tlearn: 0.1666016\ttotal: 1m 32s\tremaining: 0us\n"
     ]
    }
   ],
   "source": [
    "#lgb = LGBMClassifier(objective='binary',\n",
    "#                     max_depth=10,\n",
    "#                     n_estimators=500,\n",
    "#                     learning_rate=0.05,\n",
    "#                     categorical_column=cat_feats)\n",
    "#\n",
    "#lgb.fit(X_train, y_train)\n",
    "#\n",
    "#train_preds = lgb.predict_proba(X_train)\n",
    "\n",
    "cbc = CatBoostClassifier(n_estimators = 500,\n",
    "                        depth=10,\n",
    "                        learning_rate=0.05,\n",
    "                        loss_function='Logloss',\n",
    "                        cat_features = cat_feats,\n",
    "                        verbose=True)\n",
    "\n",
    "cbc.fit(X_train, y_train)\n",
    "\n",
    "train_preds = cbc.predict_proba(X_train)"
   ]
  },
  {
   "cell_type": "code",
   "execution_count": 206,
   "metadata": {},
   "outputs": [],
   "source": [
    "df_ranker_predict = df_ranker_train.copy()"
   ]
  },
  {
   "cell_type": "code",
   "execution_count": 207,
   "metadata": {},
   "outputs": [],
   "source": [
    "df_ranker_predict['proba_item_purchase'] = train_preds[:,1]"
   ]
  },
  {
   "cell_type": "code",
   "execution_count": 208,
   "metadata": {},
   "outputs": [
    {
     "data": {
      "text/html": [
       "<div>\n",
       "<style scoped>\n",
       "    .dataframe tbody tr th:only-of-type {\n",
       "        vertical-align: middle;\n",
       "    }\n",
       "\n",
       "    .dataframe tbody tr th {\n",
       "        vertical-align: top;\n",
       "    }\n",
       "\n",
       "    .dataframe thead th {\n",
       "        text-align: right;\n",
       "    }\n",
       "</style>\n",
       "<table border=\"1\" class=\"dataframe\">\n",
       "  <thead>\n",
       "    <tr style=\"text-align: right;\">\n",
       "      <th></th>\n",
       "      <th>user_id</th>\n",
       "      <th>item_id</th>\n",
       "      <th>target</th>\n",
       "      <th>manufacturer</th>\n",
       "      <th>department</th>\n",
       "      <th>brand</th>\n",
       "      <th>commodity_desc</th>\n",
       "      <th>sub_commodity_desc</th>\n",
       "      <th>curr_size_of_product</th>\n",
       "      <th>age_desc</th>\n",
       "      <th>...</th>\n",
       "      <th>user_quantity_per_baskter</th>\n",
       "      <th>item_freq_per_basket</th>\n",
       "      <th>user_freq_per_basket</th>\n",
       "      <th>mean_purchase_sum</th>\n",
       "      <th>purch_by_dept</th>\n",
       "      <th>mean_purchase_per_week</th>\n",
       "      <th>mean_of_items</th>\n",
       "      <th>mean_of_users</th>\n",
       "      <th>dept_mean</th>\n",
       "      <th>proba_item_purchase</th>\n",
       "    </tr>\n",
       "  </thead>\n",
       "  <tbody>\n",
       "    <tr>\n",
       "      <th>0</th>\n",
       "      <td>2070</td>\n",
       "      <td>1105426</td>\n",
       "      <td>0.0</td>\n",
       "      <td>69</td>\n",
       "      <td>DELI</td>\n",
       "      <td>Private</td>\n",
       "      <td>SANDWICHES</td>\n",
       "      <td>SANDWICHES - (COLD)</td>\n",
       "      <td></td>\n",
       "      <td>45-54</td>\n",
       "      <td>...</td>\n",
       "      <td>0.452137</td>\n",
       "      <td>0.000404</td>\n",
       "      <td>0.008140</td>\n",
       "      <td>28.909231</td>\n",
       "      <td>14.0</td>\n",
       "      <td>1.980392</td>\n",
       "      <td>1.879319</td>\n",
       "      <td>0.218927</td>\n",
       "      <td>63.94814</td>\n",
       "      <td>0.057511</td>\n",
       "    </tr>\n",
       "    <tr>\n",
       "      <th>7</th>\n",
       "      <td>2070</td>\n",
       "      <td>1097350</td>\n",
       "      <td>0.0</td>\n",
       "      <td>2468</td>\n",
       "      <td>GROCERY</td>\n",
       "      <td>National</td>\n",
       "      <td>DOMESTIC WINE</td>\n",
       "      <td>VALUE GLASS WINE</td>\n",
       "      <td>4 LTR</td>\n",
       "      <td>45-54</td>\n",
       "      <td>...</td>\n",
       "      <td>0.452137</td>\n",
       "      <td>0.000208</td>\n",
       "      <td>0.008140</td>\n",
       "      <td></td>\n",
       "      <td></td>\n",
       "      <td></td>\n",
       "      <td></td>\n",
       "      <td></td>\n",
       "      <td></td>\n",
       "      <td>0.002148</td>\n",
       "    </tr>\n",
       "    <tr>\n",
       "      <th>8</th>\n",
       "      <td>2070</td>\n",
       "      <td>879194</td>\n",
       "      <td>0.0</td>\n",
       "      <td>69</td>\n",
       "      <td>DRUG GM</td>\n",
       "      <td>Private</td>\n",
       "      <td>DIAPERS &amp; DISPOSABLES</td>\n",
       "      <td>BABY DIAPERS</td>\n",
       "      <td>14 CT</td>\n",
       "      <td>45-54</td>\n",
       "      <td>...</td>\n",
       "      <td>0.452137</td>\n",
       "      <td>0.000188</td>\n",
       "      <td>0.008140</td>\n",
       "      <td>28.909231</td>\n",
       "      <td>33.0</td>\n",
       "      <td>1.636364</td>\n",
       "      <td>1.064347</td>\n",
       "      <td>0.232614</td>\n",
       "      <td>141.866039</td>\n",
       "      <td>0.084969</td>\n",
       "    </tr>\n",
       "    <tr>\n",
       "      <th>10</th>\n",
       "      <td>2070</td>\n",
       "      <td>948640</td>\n",
       "      <td>0.0</td>\n",
       "      <td>1213</td>\n",
       "      <td>DRUG GM</td>\n",
       "      <td>National</td>\n",
       "      <td>ORAL HYGIENE PRODUCTS</td>\n",
       "      <td>WHITENING SYSTEMS</td>\n",
       "      <td>3 OZ</td>\n",
       "      <td>45-54</td>\n",
       "      <td>...</td>\n",
       "      <td>0.452137</td>\n",
       "      <td>0.000179</td>\n",
       "      <td>0.008140</td>\n",
       "      <td></td>\n",
       "      <td></td>\n",
       "      <td></td>\n",
       "      <td></td>\n",
       "      <td></td>\n",
       "      <td></td>\n",
       "      <td>0.001569</td>\n",
       "    </tr>\n",
       "    <tr>\n",
       "      <th>11</th>\n",
       "      <td>2070</td>\n",
       "      <td>928263</td>\n",
       "      <td>0.0</td>\n",
       "      <td>69</td>\n",
       "      <td>DRUG GM</td>\n",
       "      <td>Private</td>\n",
       "      <td>DIAPERS &amp; DISPOSABLES</td>\n",
       "      <td>BABY DIAPERS</td>\n",
       "      <td>13 CT</td>\n",
       "      <td>45-54</td>\n",
       "      <td>...</td>\n",
       "      <td>0.452137</td>\n",
       "      <td>0.000216</td>\n",
       "      <td>0.008140</td>\n",
       "      <td>28.909231</td>\n",
       "      <td>33.0</td>\n",
       "      <td>1.92</td>\n",
       "      <td>1.064347</td>\n",
       "      <td>0.232614</td>\n",
       "      <td>141.866039</td>\n",
       "      <td>0.128288</td>\n",
       "    </tr>\n",
       "    <tr>\n",
       "      <th>...</th>\n",
       "      <td>...</td>\n",
       "      <td>...</td>\n",
       "      <td>...</td>\n",
       "      <td>...</td>\n",
       "      <td>...</td>\n",
       "      <td>...</td>\n",
       "      <td>...</td>\n",
       "      <td>...</td>\n",
       "      <td>...</td>\n",
       "      <td>...</td>\n",
       "      <td>...</td>\n",
       "      <td>...</td>\n",
       "      <td>...</td>\n",
       "      <td>...</td>\n",
       "      <td>...</td>\n",
       "      <td>...</td>\n",
       "      <td>...</td>\n",
       "      <td>...</td>\n",
       "      <td>...</td>\n",
       "      <td>...</td>\n",
       "      <td>...</td>\n",
       "    </tr>\n",
       "    <tr>\n",
       "      <th>282770</th>\n",
       "      <td>1745</td>\n",
       "      <td>948832</td>\n",
       "      <td>0.0</td>\n",
       "      <td>1719</td>\n",
       "      <td>MEAT-PCKGD</td>\n",
       "      <td>National</td>\n",
       "      <td>HOT DOGS</td>\n",
       "      <td>BETTER FOR YOU</td>\n",
       "      <td>1 LB</td>\n",
       "      <td>45-54</td>\n",
       "      <td>...</td>\n",
       "      <td>0.004902</td>\n",
       "      <td>0.001028</td>\n",
       "      <td>0.003658</td>\n",
       "      <td>14.266381</td>\n",
       "      <td>75.0</td>\n",
       "      <td>3.323077</td>\n",
       "      <td>1.547085</td>\n",
       "      <td>0.383733</td>\n",
       "      <td>195.448524</td>\n",
       "      <td>0.133353</td>\n",
       "    </tr>\n",
       "    <tr>\n",
       "      <th>282772</th>\n",
       "      <td>1745</td>\n",
       "      <td>903454</td>\n",
       "      <td>0.0</td>\n",
       "      <td>1216</td>\n",
       "      <td>MEAT-PCKGD</td>\n",
       "      <td>National</td>\n",
       "      <td>FROZEN MEAT</td>\n",
       "      <td>OTHER - FULLY COOKED</td>\n",
       "      <td>32 OZ</td>\n",
       "      <td>45-54</td>\n",
       "      <td>...</td>\n",
       "      <td>0.004902</td>\n",
       "      <td>0.000196</td>\n",
       "      <td>0.003658</td>\n",
       "      <td>14.266381</td>\n",
       "      <td>75.0</td>\n",
       "      <td>2.190476</td>\n",
       "      <td>1.547085</td>\n",
       "      <td>0.383733</td>\n",
       "      <td>195.448524</td>\n",
       "      <td>0.038067</td>\n",
       "    </tr>\n",
       "    <tr>\n",
       "      <th>282773</th>\n",
       "      <td>1745</td>\n",
       "      <td>9419888</td>\n",
       "      <td>0.0</td>\n",
       "      <td>759</td>\n",
       "      <td>GROCERY</td>\n",
       "      <td>National</td>\n",
       "      <td>YOGURT</td>\n",
       "      <td>YOGURT MULTI-PACKS</td>\n",
       "      <td>48 OZ</td>\n",
       "      <td>45-54</td>\n",
       "      <td>...</td>\n",
       "      <td>0.004902</td>\n",
       "      <td>0.000355</td>\n",
       "      <td>0.003658</td>\n",
       "      <td>14.266381</td>\n",
       "      <td>157.0</td>\n",
       "      <td>1.54</td>\n",
       "      <td>1.273458</td>\n",
       "      <td>2.161061</td>\n",
       "      <td>72.649508</td>\n",
       "      <td>0.066815</td>\n",
       "    </tr>\n",
       "    <tr>\n",
       "      <th>282774</th>\n",
       "      <td>1745</td>\n",
       "      <td>880469</td>\n",
       "      <td>0.0</td>\n",
       "      <td>544</td>\n",
       "      <td>GROCERY</td>\n",
       "      <td>National</td>\n",
       "      <td>BAG SNACKS</td>\n",
       "      <td>CORN CHIPS</td>\n",
       "      <td>10 OZ</td>\n",
       "      <td>45-54</td>\n",
       "      <td>...</td>\n",
       "      <td>0.004902</td>\n",
       "      <td>0.000701</td>\n",
       "      <td>0.003658</td>\n",
       "      <td>14.266381</td>\n",
       "      <td>157.0</td>\n",
       "      <td>1.964286</td>\n",
       "      <td>1.273458</td>\n",
       "      <td>2.161061</td>\n",
       "      <td>72.649508</td>\n",
       "      <td>0.076862</td>\n",
       "    </tr>\n",
       "    <tr>\n",
       "      <th>282775</th>\n",
       "      <td>1745</td>\n",
       "      <td>1024051</td>\n",
       "      <td>0.0</td>\n",
       "      <td>1508</td>\n",
       "      <td>GROCERY</td>\n",
       "      <td>National</td>\n",
       "      <td>FRZN MEAT/MEAT DINNERS</td>\n",
       "      <td>FRZN MULTI SERVE ENTREES ALL</td>\n",
       "      <td>28 OZ</td>\n",
       "      <td>45-54</td>\n",
       "      <td>...</td>\n",
       "      <td>0.004902</td>\n",
       "      <td>0.000967</td>\n",
       "      <td>0.003658</td>\n",
       "      <td>14.266381</td>\n",
       "      <td>157.0</td>\n",
       "      <td>3.169811</td>\n",
       "      <td>1.273458</td>\n",
       "      <td>2.161061</td>\n",
       "      <td>72.649508</td>\n",
       "      <td>0.111853</td>\n",
       "    </tr>\n",
       "  </tbody>\n",
       "</table>\n",
       "<p>95319 rows × 34 columns</p>\n",
       "</div>"
      ],
      "text/plain": [
       "        user_id  item_id  target  manufacturer  department     brand  \\\n",
       "0          2070  1105426     0.0            69        DELI   Private   \n",
       "7          2070  1097350     0.0          2468     GROCERY  National   \n",
       "8          2070   879194     0.0            69     DRUG GM   Private   \n",
       "10         2070   948640     0.0          1213     DRUG GM  National   \n",
       "11         2070   928263     0.0            69     DRUG GM   Private   \n",
       "...         ...      ...     ...           ...         ...       ...   \n",
       "282770     1745   948832     0.0          1719  MEAT-PCKGD  National   \n",
       "282772     1745   903454     0.0          1216  MEAT-PCKGD  National   \n",
       "282773     1745  9419888     0.0           759     GROCERY  National   \n",
       "282774     1745   880469     0.0           544     GROCERY  National   \n",
       "282775     1745  1024051     0.0          1508     GROCERY  National   \n",
       "\n",
       "                commodity_desc            sub_commodity_desc  \\\n",
       "0                   SANDWICHES           SANDWICHES - (COLD)   \n",
       "7                DOMESTIC WINE              VALUE GLASS WINE   \n",
       "8        DIAPERS & DISPOSABLES                  BABY DIAPERS   \n",
       "10       ORAL HYGIENE PRODUCTS             WHITENING SYSTEMS   \n",
       "11       DIAPERS & DISPOSABLES                  BABY DIAPERS   \n",
       "...                        ...                           ...   \n",
       "282770                HOT DOGS                BETTER FOR YOU   \n",
       "282772             FROZEN MEAT          OTHER - FULLY COOKED   \n",
       "282773                  YOGURT            YOGURT MULTI-PACKS   \n",
       "282774              BAG SNACKS                    CORN CHIPS   \n",
       "282775  FRZN MEAT/MEAT DINNERS  FRZN MULTI SERVE ENTREES ALL   \n",
       "\n",
       "       curr_size_of_product age_desc  ... user_quantity_per_baskter  \\\n",
       "0                              45-54  ...                  0.452137   \n",
       "7                     4 LTR    45-54  ...                  0.452137   \n",
       "8                     14 CT    45-54  ...                  0.452137   \n",
       "10                     3 OZ    45-54  ...                  0.452137   \n",
       "11                    13 CT    45-54  ...                  0.452137   \n",
       "...                     ...      ...  ...                       ...   \n",
       "282770                 1 LB    45-54  ...                  0.004902   \n",
       "282772                32 OZ    45-54  ...                  0.004902   \n",
       "282773                48 OZ    45-54  ...                  0.004902   \n",
       "282774                10 OZ    45-54  ...                  0.004902   \n",
       "282775                28 OZ    45-54  ...                  0.004902   \n",
       "\n",
       "       item_freq_per_basket user_freq_per_basket mean_purchase_sum  \\\n",
       "0                  0.000404             0.008140         28.909231   \n",
       "7                  0.000208             0.008140                     \n",
       "8                  0.000188             0.008140         28.909231   \n",
       "10                 0.000179             0.008140                     \n",
       "11                 0.000216             0.008140         28.909231   \n",
       "...                     ...                  ...               ...   \n",
       "282770             0.001028             0.003658         14.266381   \n",
       "282772             0.000196             0.003658         14.266381   \n",
       "282773             0.000355             0.003658         14.266381   \n",
       "282774             0.000701             0.003658         14.266381   \n",
       "282775             0.000967             0.003658         14.266381   \n",
       "\n",
       "       purch_by_dept mean_purchase_per_week  mean_of_items  mean_of_users  \\\n",
       "0               14.0               1.980392       1.879319       0.218927   \n",
       "7                                                                           \n",
       "8               33.0               1.636364       1.064347       0.232614   \n",
       "10                                                                          \n",
       "11              33.0                   1.92       1.064347       0.232614   \n",
       "...              ...                    ...            ...            ...   \n",
       "282770          75.0               3.323077       1.547085       0.383733   \n",
       "282772          75.0               2.190476       1.547085       0.383733   \n",
       "282773         157.0                   1.54       1.273458       2.161061   \n",
       "282774         157.0               1.964286       1.273458       2.161061   \n",
       "282775         157.0               3.169811       1.273458       2.161061   \n",
       "\n",
       "         dept_mean  proba_item_purchase  \n",
       "0         63.94814             0.057511  \n",
       "7                              0.002148  \n",
       "8       141.866039             0.084969  \n",
       "10                             0.001569  \n",
       "11      141.866039             0.128288  \n",
       "...            ...                  ...  \n",
       "282770  195.448524             0.133353  \n",
       "282772  195.448524             0.038067  \n",
       "282773   72.649508             0.066815  \n",
       "282774   72.649508             0.076862  \n",
       "282775   72.649508             0.111853  \n",
       "\n",
       "[95319 rows x 34 columns]"
      ]
     },
     "execution_count": 208,
     "metadata": {},
     "output_type": "execute_result"
    }
   ],
   "source": [
    "df_ranker_predict"
   ]
  },
  {
   "cell_type": "markdown",
   "metadata": {},
   "source": [
    "# Evaluation on test dataset"
   ]
  },
  {
   "cell_type": "code",
   "execution_count": 209,
   "metadata": {},
   "outputs": [
    {
     "data": {
      "text/html": [
       "<div>\n",
       "<style scoped>\n",
       "    .dataframe tbody tr th:only-of-type {\n",
       "        vertical-align: middle;\n",
       "    }\n",
       "\n",
       "    .dataframe tbody tr th {\n",
       "        vertical-align: top;\n",
       "    }\n",
       "\n",
       "    .dataframe thead th {\n",
       "        text-align: right;\n",
       "    }\n",
       "</style>\n",
       "<table border=\"1\" class=\"dataframe\">\n",
       "  <thead>\n",
       "    <tr style=\"text-align: right;\">\n",
       "      <th></th>\n",
       "      <th>user_id</th>\n",
       "      <th>actual</th>\n",
       "    </tr>\n",
       "  </thead>\n",
       "  <tbody>\n",
       "    <tr>\n",
       "      <th>0</th>\n",
       "      <td>1</td>\n",
       "      <td>[821867, 834484, 856942, 865456, 889248, 90795...</td>\n",
       "    </tr>\n",
       "    <tr>\n",
       "      <th>1</th>\n",
       "      <td>6</td>\n",
       "      <td>[920308, 926804, 946489, 1006718, 1017061, 107...</td>\n",
       "    </tr>\n",
       "  </tbody>\n",
       "</table>\n",
       "</div>"
      ],
      "text/plain": [
       "   user_id                                             actual\n",
       "0        1  [821867, 834484, 856942, 865456, 889248, 90795...\n",
       "1        6  [920308, 926804, 946489, 1006718, 1017061, 107..."
      ]
     },
     "execution_count": 209,
     "metadata": {},
     "output_type": "execute_result"
    }
   ],
   "source": [
    "result_eval_ranker = data_val_ranker.groupby(USER_COL)[ITEM_COL].unique().reset_index()\n",
    "result_eval_ranker.columns=[USER_COL, ACTUAL_COL]\n",
    "result_eval_ranker.head(2)"
   ]
  },
  {
   "cell_type": "markdown",
   "metadata": {},
   "source": [
    "## Eval matching on test dataset"
   ]
  },
  {
   "cell_type": "code",
   "execution_count": 210,
   "metadata": {},
   "outputs": [
    {
     "name": "stdout",
     "output_type": "stream",
     "text": [
      "Wall time: 5.57 s\n"
     ]
    }
   ],
   "source": [
    "%%time\n",
    "result_eval_ranker['own_rec'] = result_eval_ranker[USER_COL].apply(lambda x: recommender.get_own_recommendations(x, N=N_PREDICT))"
   ]
  },
  {
   "cell_type": "code",
   "execution_count": 211,
   "metadata": {},
   "outputs": [
    {
     "data": {
      "text/plain": [
       "[('own_rec', 0.1462140992167092)]"
      ]
     },
     "execution_count": 211,
     "metadata": {},
     "output_type": "execute_result"
    }
   ],
   "source": [
    "# померяем precision только модели матчинга, чтобы понимать влияение ранжирования на метрики\n",
    "\n",
    "sorted(calc_precision(result_eval_ranker, TOPK_PRECISION), key=lambda x: x[1], reverse=True)"
   ]
  },
  {
   "cell_type": "markdown",
   "metadata": {},
   "source": [
    "## Eval re-ranked matched result on test dataset\n",
    "    "
   ]
  },
  {
   "cell_type": "code",
   "execution_count": 212,
   "metadata": {},
   "outputs": [],
   "source": [
    "def rerank(user_id):\n",
    "    return df_ranker_predict[df_ranker_predict[USER_COL]==user_id].sort_values('proba_item_purchase', ascending=False).head(5).item_id.tolist()"
   ]
  },
  {
   "cell_type": "code",
   "execution_count": 213,
   "metadata": {},
   "outputs": [],
   "source": [
    "result_eval_ranker['reranked_own_rec'] = result_eval_ranker[USER_COL].apply(lambda user_id: rerank(user_id))"
   ]
  },
  {
   "cell_type": "code",
   "execution_count": 214,
   "metadata": {
    "scrolled": false
   },
   "outputs": [
    {
     "name": "stdout",
     "output_type": "stream",
     "text": [
      "('reranked_own_rec', 0.18715404699738714)\n",
      "('own_rec', 0.1462140992167092)\n"
     ]
    }
   ],
   "source": [
    "print(*sorted(calc_precision(result_eval_ranker, TOPK_PRECISION), key=lambda x: x[1], reverse=True), sep='\\n')"
   ]
  },
  {
   "cell_type": "code",
   "execution_count": null,
   "metadata": {},
   "outputs": [],
   "source": [
    "precision@5 >= 0.25"
   ]
  },
  {
   "cell_type": "code",
   "execution_count": 215,
   "metadata": {},
   "outputs": [],
   "source": [
    "df_test = pd.read_csv('retail_test1.csv')\n",
    "df_transactions = pd.read_csv('retail_train.csv')"
   ]
  },
  {
   "cell_type": "code",
   "execution_count": 216,
   "metadata": {},
   "outputs": [
    {
     "data": {
      "text/html": [
       "<div>\n",
       "<style scoped>\n",
       "    .dataframe tbody tr th:only-of-type {\n",
       "        vertical-align: middle;\n",
       "    }\n",
       "\n",
       "    .dataframe tbody tr th {\n",
       "        vertical-align: top;\n",
       "    }\n",
       "\n",
       "    .dataframe thead th {\n",
       "        text-align: right;\n",
       "    }\n",
       "</style>\n",
       "<table border=\"1\" class=\"dataframe\">\n",
       "  <thead>\n",
       "    <tr style=\"text-align: right;\">\n",
       "      <th></th>\n",
       "      <th>user_id</th>\n",
       "      <th>basket_id</th>\n",
       "      <th>day</th>\n",
       "      <th>item_id</th>\n",
       "      <th>quantity</th>\n",
       "      <th>sales_value</th>\n",
       "      <th>store_id</th>\n",
       "      <th>retail_disc</th>\n",
       "      <th>trans_time</th>\n",
       "      <th>week_no</th>\n",
       "      <th>coupon_disc</th>\n",
       "      <th>coupon_match_disc</th>\n",
       "    </tr>\n",
       "  </thead>\n",
       "  <tbody>\n",
       "    <tr>\n",
       "      <th>0</th>\n",
       "      <td>1340</td>\n",
       "      <td>41652823310</td>\n",
       "      <td>664</td>\n",
       "      <td>912987</td>\n",
       "      <td>1</td>\n",
       "      <td>8.49</td>\n",
       "      <td>446</td>\n",
       "      <td>0.0</td>\n",
       "      <td>52</td>\n",
       "      <td>96</td>\n",
       "      <td>0.0</td>\n",
       "      <td>0.0</td>\n",
       "    </tr>\n",
       "    <tr>\n",
       "      <th>1</th>\n",
       "      <td>588</td>\n",
       "      <td>41652838477</td>\n",
       "      <td>664</td>\n",
       "      <td>1024426</td>\n",
       "      <td>1</td>\n",
       "      <td>6.29</td>\n",
       "      <td>388</td>\n",
       "      <td>0.0</td>\n",
       "      <td>8</td>\n",
       "      <td>96</td>\n",
       "      <td>0.0</td>\n",
       "      <td>0.0</td>\n",
       "    </tr>\n",
       "    <tr>\n",
       "      <th>2</th>\n",
       "      <td>2070</td>\n",
       "      <td>41652857291</td>\n",
       "      <td>664</td>\n",
       "      <td>995242</td>\n",
       "      <td>5</td>\n",
       "      <td>9.10</td>\n",
       "      <td>311</td>\n",
       "      <td>-0.6</td>\n",
       "      <td>46</td>\n",
       "      <td>96</td>\n",
       "      <td>0.0</td>\n",
       "      <td>0.0</td>\n",
       "    </tr>\n",
       "    <tr>\n",
       "      <th>3</th>\n",
       "      <td>1602</td>\n",
       "      <td>41665647035</td>\n",
       "      <td>664</td>\n",
       "      <td>827939</td>\n",
       "      <td>1</td>\n",
       "      <td>7.99</td>\n",
       "      <td>334</td>\n",
       "      <td>0.0</td>\n",
       "      <td>1741</td>\n",
       "      <td>96</td>\n",
       "      <td>0.0</td>\n",
       "      <td>0.0</td>\n",
       "    </tr>\n",
       "    <tr>\n",
       "      <th>4</th>\n",
       "      <td>1602</td>\n",
       "      <td>41665647035</td>\n",
       "      <td>664</td>\n",
       "      <td>927712</td>\n",
       "      <td>1</td>\n",
       "      <td>0.59</td>\n",
       "      <td>334</td>\n",
       "      <td>-0.4</td>\n",
       "      <td>1741</td>\n",
       "      <td>96</td>\n",
       "      <td>0.0</td>\n",
       "      <td>0.0</td>\n",
       "    </tr>\n",
       "  </tbody>\n",
       "</table>\n",
       "</div>"
      ],
      "text/plain": [
       "   user_id    basket_id  day  item_id  quantity  sales_value  store_id  \\\n",
       "0     1340  41652823310  664   912987         1         8.49       446   \n",
       "1      588  41652838477  664  1024426         1         6.29       388   \n",
       "2     2070  41652857291  664   995242         5         9.10       311   \n",
       "3     1602  41665647035  664   827939         1         7.99       334   \n",
       "4     1602  41665647035  664   927712         1         0.59       334   \n",
       "\n",
       "   retail_disc  trans_time  week_no  coupon_disc  coupon_match_disc  \n",
       "0          0.0          52       96          0.0                0.0  \n",
       "1          0.0           8       96          0.0                0.0  \n",
       "2         -0.6          46       96          0.0                0.0  \n",
       "3          0.0        1741       96          0.0                0.0  \n",
       "4         -0.4        1741       96          0.0                0.0  "
      ]
     },
     "execution_count": 216,
     "metadata": {},
     "output_type": "execute_result"
    }
   ],
   "source": [
    "df_test.head()"
   ]
  },
  {
   "cell_type": "code",
   "execution_count": 217,
   "metadata": {
    "scrolled": true
   },
   "outputs": [
    {
     "data": {
      "text/html": [
       "<div>\n",
       "<style scoped>\n",
       "    .dataframe tbody tr th:only-of-type {\n",
       "        vertical-align: middle;\n",
       "    }\n",
       "\n",
       "    .dataframe tbody tr th {\n",
       "        vertical-align: top;\n",
       "    }\n",
       "\n",
       "    .dataframe thead th {\n",
       "        text-align: right;\n",
       "    }\n",
       "</style>\n",
       "<table border=\"1\" class=\"dataframe\">\n",
       "  <thead>\n",
       "    <tr style=\"text-align: right;\">\n",
       "      <th></th>\n",
       "      <th>user_id</th>\n",
       "      <th>actual</th>\n",
       "    </tr>\n",
       "  </thead>\n",
       "  <tbody>\n",
       "    <tr>\n",
       "      <th>0</th>\n",
       "      <td>1</td>\n",
       "      <td>[880007, 883616, 931136, 938004, 940947, 94726...</td>\n",
       "    </tr>\n",
       "    <tr>\n",
       "      <th>1</th>\n",
       "      <td>2</td>\n",
       "      <td>[820165, 820291, 826784, 826835, 829009, 85784...</td>\n",
       "    </tr>\n",
       "  </tbody>\n",
       "</table>\n",
       "</div>"
      ],
      "text/plain": [
       "   user_id                                             actual\n",
       "0        1  [880007, 883616, 931136, 938004, 940947, 94726...\n",
       "1        2  [820165, 820291, 826784, 826835, 829009, 85784..."
      ]
     },
     "execution_count": 217,
     "metadata": {},
     "output_type": "execute_result"
    }
   ],
   "source": [
    "result_test = df_test.groupby(USER_COL)[ITEM_COL].unique().reset_index()\n",
    "result_test.columns=[USER_COL, ACTUAL_COL]\n",
    "result_test.head(2)"
   ]
  },
  {
   "cell_type": "code",
   "execution_count": 218,
   "metadata": {},
   "outputs": [],
   "source": [
    "result_test = result_test[result_test.user_id.isin(common_users)]"
   ]
  },
  {
   "cell_type": "code",
   "execution_count": 219,
   "metadata": {},
   "outputs": [
    {
     "name": "stdout",
     "output_type": "stream",
     "text": [
      "('reranked_own_rec', 0.1601924233313279)\n",
      "('own_rec', 0.12928442573661988)\n",
      "Wall time: 5.92 s\n"
     ]
    }
   ],
   "source": [
    "%%time\n",
    "result_test['own_rec'] = result_test[USER_COL].apply(lambda x: recommender.get_own_recommendations(x, N=N_PREDICT))\n",
    "result_test['reranked_own_rec'] = result_test[USER_COL].apply(lambda user_id: rerank(user_id))\n",
    "\n",
    "print(*sorted(calc_precision(result_test, TOPK_PRECISION), key=lambda x: x[1], reverse=True), sep='\\n')"
   ]
  }
 ],
 "metadata": {
  "kernelspec": {
   "display_name": "Python 3 (ipykernel)",
   "language": "python",
   "name": "python3"
  },
  "language_info": {
   "codemirror_mode": {
    "name": "ipython",
    "version": 3
   },
   "file_extension": ".py",
   "mimetype": "text/x-python",
   "name": "python",
   "nbconvert_exporter": "python",
   "pygments_lexer": "ipython3",
   "version": "3.9.7"
  }
 },
 "nbformat": 4,
 "nbformat_minor": 2
}
